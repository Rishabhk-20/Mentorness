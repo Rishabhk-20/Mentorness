{
  "nbformat": 4,
  "nbformat_minor": 0,
  "metadata": {
    "colab": {
      "provenance": [],
      "authorship_tag": "ABX9TyOs0+//iNViMHeAWgm4ByxY",
      "include_colab_link": true
    },
    "kernelspec": {
      "name": "python3",
      "display_name": "Python 3"
    },
    "language_info": {
      "name": "python"
    }
  },
  "cells": [
    {
      "cell_type": "markdown",
      "metadata": {
        "id": "view-in-github",
        "colab_type": "text"
      },
      "source": [
        "<a href=\"https://colab.research.google.com/github/Rishabhk-20/Mentorness_Project/blob/main/Rishabh_Mentorness_P1.ipynb\" target=\"_parent\"><img src=\"https://colab.research.google.com/assets/colab-badge.svg\" alt=\"Open In Colab\"/></a>"
      ]
    },
    {
      "cell_type": "markdown",
      "source": [
        "**Project: Salary Prediction**"
      ],
      "metadata": {
        "id": "GByEmyIqUGG1"
      }
    },
    {
      "cell_type": "code",
      "execution_count": 1,
      "metadata": {
        "id": "TlzbEQ41TRPe"
      },
      "outputs": [],
      "source": [
        "import numpy as np\n",
        "import pandas as pd\n",
        "import matplotlib.pyplot as plt"
      ]
    },
    {
      "cell_type": "code",
      "source": [
        "pd.read_csv('Salary Prediction of Data Professions.csv')"
      ],
      "metadata": {
        "colab": {
          "base_uri": "https://localhost:8080/",
          "height": 423
        },
        "id": "UmDTn0HRTljm",
        "outputId": "b66aec05-c7cb-49f2-f548-108492f28322"
      },
      "execution_count": 2,
      "outputs": [
        {
          "output_type": "execute_result",
          "data": {
            "text/plain": [
              "     FIRST NAME   LAST NAME SEX         DOJ CURRENT DATE     DESIGNATION  \\\n",
              "0        TOMASA       ARMEN   F   5-18-2014   01-07-2016         Analyst   \n",
              "1         ANNIE         NaN   F         NaN   01-07-2016       Associate   \n",
              "2         OLIVE        ANCY   F   7-28-2014   01-07-2016         Analyst   \n",
              "3        CHERRY     AQUILAR   F  04-03-2013   01-07-2016         Analyst   \n",
              "4          LEON  ABOULAHOUD   M  11-20-2014   01-07-2016         Analyst   \n",
              "...         ...         ...  ..         ...          ...             ...   \n",
              "2634  KATHERINE      ALSDON   F   6-28-2011   01-07-2016  Senior Manager   \n",
              "2635     LOUISE     ALTARAS   F   1-14-2014   01-07-2016         Analyst   \n",
              "2636      RENEE      ALVINO   F   1-23-2014   01-07-2016         Analyst   \n",
              "2637       TERI   ANASTASIO   F   3-17-2014   01-07-2016         Analyst   \n",
              "2638    GREGORY      ABARCA   M   9-18-2014   01-07-2016         Analyst   \n",
              "\n",
              "       AGE  SALARY        UNIT  LEAVES USED  LEAVES REMAINING  RATINGS  \\\n",
              "0     21.0   44570     Finance         24.0               6.0      2.0   \n",
              "1      NaN   89207         Web          NaN              13.0      NaN   \n",
              "2     21.0   40955     Finance         23.0               7.0      3.0   \n",
              "3     22.0   45550          IT         22.0               8.0      3.0   \n",
              "4      NaN   43161  Operations         27.0               3.0      NaN   \n",
              "...    ...     ...         ...          ...               ...      ...   \n",
              "2634  36.0  185977  Management         15.0              15.0      5.0   \n",
              "2635  23.0   45758          IT         17.0              13.0      2.0   \n",
              "2636  21.0   47315         Web         29.0               1.0      5.0   \n",
              "2637  24.0   45172         Web         23.0               7.0      3.0   \n",
              "2638  24.0   49176   Marketing         17.0              13.0      2.0   \n",
              "\n",
              "      PAST EXP  \n",
              "0            0  \n",
              "1            7  \n",
              "2            0  \n",
              "3            0  \n",
              "4            3  \n",
              "...        ...  \n",
              "2634        10  \n",
              "2635         0  \n",
              "2636         0  \n",
              "2637         1  \n",
              "2638         2  \n",
              "\n",
              "[2639 rows x 13 columns]"
            ],
            "text/html": [
              "\n",
              "  <div id=\"df-04083dcb-dea1-401b-9099-7004d71e90e8\" class=\"colab-df-container\">\n",
              "    <div>\n",
              "<style scoped>\n",
              "    .dataframe tbody tr th:only-of-type {\n",
              "        vertical-align: middle;\n",
              "    }\n",
              "\n",
              "    .dataframe tbody tr th {\n",
              "        vertical-align: top;\n",
              "    }\n",
              "\n",
              "    .dataframe thead th {\n",
              "        text-align: right;\n",
              "    }\n",
              "</style>\n",
              "<table border=\"1\" class=\"dataframe\">\n",
              "  <thead>\n",
              "    <tr style=\"text-align: right;\">\n",
              "      <th></th>\n",
              "      <th>FIRST NAME</th>\n",
              "      <th>LAST NAME</th>\n",
              "      <th>SEX</th>\n",
              "      <th>DOJ</th>\n",
              "      <th>CURRENT DATE</th>\n",
              "      <th>DESIGNATION</th>\n",
              "      <th>AGE</th>\n",
              "      <th>SALARY</th>\n",
              "      <th>UNIT</th>\n",
              "      <th>LEAVES USED</th>\n",
              "      <th>LEAVES REMAINING</th>\n",
              "      <th>RATINGS</th>\n",
              "      <th>PAST EXP</th>\n",
              "    </tr>\n",
              "  </thead>\n",
              "  <tbody>\n",
              "    <tr>\n",
              "      <th>0</th>\n",
              "      <td>TOMASA</td>\n",
              "      <td>ARMEN</td>\n",
              "      <td>F</td>\n",
              "      <td>5-18-2014</td>\n",
              "      <td>01-07-2016</td>\n",
              "      <td>Analyst</td>\n",
              "      <td>21.0</td>\n",
              "      <td>44570</td>\n",
              "      <td>Finance</td>\n",
              "      <td>24.0</td>\n",
              "      <td>6.0</td>\n",
              "      <td>2.0</td>\n",
              "      <td>0</td>\n",
              "    </tr>\n",
              "    <tr>\n",
              "      <th>1</th>\n",
              "      <td>ANNIE</td>\n",
              "      <td>NaN</td>\n",
              "      <td>F</td>\n",
              "      <td>NaN</td>\n",
              "      <td>01-07-2016</td>\n",
              "      <td>Associate</td>\n",
              "      <td>NaN</td>\n",
              "      <td>89207</td>\n",
              "      <td>Web</td>\n",
              "      <td>NaN</td>\n",
              "      <td>13.0</td>\n",
              "      <td>NaN</td>\n",
              "      <td>7</td>\n",
              "    </tr>\n",
              "    <tr>\n",
              "      <th>2</th>\n",
              "      <td>OLIVE</td>\n",
              "      <td>ANCY</td>\n",
              "      <td>F</td>\n",
              "      <td>7-28-2014</td>\n",
              "      <td>01-07-2016</td>\n",
              "      <td>Analyst</td>\n",
              "      <td>21.0</td>\n",
              "      <td>40955</td>\n",
              "      <td>Finance</td>\n",
              "      <td>23.0</td>\n",
              "      <td>7.0</td>\n",
              "      <td>3.0</td>\n",
              "      <td>0</td>\n",
              "    </tr>\n",
              "    <tr>\n",
              "      <th>3</th>\n",
              "      <td>CHERRY</td>\n",
              "      <td>AQUILAR</td>\n",
              "      <td>F</td>\n",
              "      <td>04-03-2013</td>\n",
              "      <td>01-07-2016</td>\n",
              "      <td>Analyst</td>\n",
              "      <td>22.0</td>\n",
              "      <td>45550</td>\n",
              "      <td>IT</td>\n",
              "      <td>22.0</td>\n",
              "      <td>8.0</td>\n",
              "      <td>3.0</td>\n",
              "      <td>0</td>\n",
              "    </tr>\n",
              "    <tr>\n",
              "      <th>4</th>\n",
              "      <td>LEON</td>\n",
              "      <td>ABOULAHOUD</td>\n",
              "      <td>M</td>\n",
              "      <td>11-20-2014</td>\n",
              "      <td>01-07-2016</td>\n",
              "      <td>Analyst</td>\n",
              "      <td>NaN</td>\n",
              "      <td>43161</td>\n",
              "      <td>Operations</td>\n",
              "      <td>27.0</td>\n",
              "      <td>3.0</td>\n",
              "      <td>NaN</td>\n",
              "      <td>3</td>\n",
              "    </tr>\n",
              "    <tr>\n",
              "      <th>...</th>\n",
              "      <td>...</td>\n",
              "      <td>...</td>\n",
              "      <td>...</td>\n",
              "      <td>...</td>\n",
              "      <td>...</td>\n",
              "      <td>...</td>\n",
              "      <td>...</td>\n",
              "      <td>...</td>\n",
              "      <td>...</td>\n",
              "      <td>...</td>\n",
              "      <td>...</td>\n",
              "      <td>...</td>\n",
              "      <td>...</td>\n",
              "    </tr>\n",
              "    <tr>\n",
              "      <th>2634</th>\n",
              "      <td>KATHERINE</td>\n",
              "      <td>ALSDON</td>\n",
              "      <td>F</td>\n",
              "      <td>6-28-2011</td>\n",
              "      <td>01-07-2016</td>\n",
              "      <td>Senior Manager</td>\n",
              "      <td>36.0</td>\n",
              "      <td>185977</td>\n",
              "      <td>Management</td>\n",
              "      <td>15.0</td>\n",
              "      <td>15.0</td>\n",
              "      <td>5.0</td>\n",
              "      <td>10</td>\n",
              "    </tr>\n",
              "    <tr>\n",
              "      <th>2635</th>\n",
              "      <td>LOUISE</td>\n",
              "      <td>ALTARAS</td>\n",
              "      <td>F</td>\n",
              "      <td>1-14-2014</td>\n",
              "      <td>01-07-2016</td>\n",
              "      <td>Analyst</td>\n",
              "      <td>23.0</td>\n",
              "      <td>45758</td>\n",
              "      <td>IT</td>\n",
              "      <td>17.0</td>\n",
              "      <td>13.0</td>\n",
              "      <td>2.0</td>\n",
              "      <td>0</td>\n",
              "    </tr>\n",
              "    <tr>\n",
              "      <th>2636</th>\n",
              "      <td>RENEE</td>\n",
              "      <td>ALVINO</td>\n",
              "      <td>F</td>\n",
              "      <td>1-23-2014</td>\n",
              "      <td>01-07-2016</td>\n",
              "      <td>Analyst</td>\n",
              "      <td>21.0</td>\n",
              "      <td>47315</td>\n",
              "      <td>Web</td>\n",
              "      <td>29.0</td>\n",
              "      <td>1.0</td>\n",
              "      <td>5.0</td>\n",
              "      <td>0</td>\n",
              "    </tr>\n",
              "    <tr>\n",
              "      <th>2637</th>\n",
              "      <td>TERI</td>\n",
              "      <td>ANASTASIO</td>\n",
              "      <td>F</td>\n",
              "      <td>3-17-2014</td>\n",
              "      <td>01-07-2016</td>\n",
              "      <td>Analyst</td>\n",
              "      <td>24.0</td>\n",
              "      <td>45172</td>\n",
              "      <td>Web</td>\n",
              "      <td>23.0</td>\n",
              "      <td>7.0</td>\n",
              "      <td>3.0</td>\n",
              "      <td>1</td>\n",
              "    </tr>\n",
              "    <tr>\n",
              "      <th>2638</th>\n",
              "      <td>GREGORY</td>\n",
              "      <td>ABARCA</td>\n",
              "      <td>M</td>\n",
              "      <td>9-18-2014</td>\n",
              "      <td>01-07-2016</td>\n",
              "      <td>Analyst</td>\n",
              "      <td>24.0</td>\n",
              "      <td>49176</td>\n",
              "      <td>Marketing</td>\n",
              "      <td>17.0</td>\n",
              "      <td>13.0</td>\n",
              "      <td>2.0</td>\n",
              "      <td>2</td>\n",
              "    </tr>\n",
              "  </tbody>\n",
              "</table>\n",
              "<p>2639 rows × 13 columns</p>\n",
              "</div>\n",
              "    <div class=\"colab-df-buttons\">\n",
              "\n",
              "  <div class=\"colab-df-container\">\n",
              "    <button class=\"colab-df-convert\" onclick=\"convertToInteractive('df-04083dcb-dea1-401b-9099-7004d71e90e8')\"\n",
              "            title=\"Convert this dataframe to an interactive table.\"\n",
              "            style=\"display:none;\">\n",
              "\n",
              "  <svg xmlns=\"http://www.w3.org/2000/svg\" height=\"24px\" viewBox=\"0 -960 960 960\">\n",
              "    <path d=\"M120-120v-720h720v720H120Zm60-500h600v-160H180v160Zm220 220h160v-160H400v160Zm0 220h160v-160H400v160ZM180-400h160v-160H180v160Zm440 0h160v-160H620v160ZM180-180h160v-160H180v160Zm440 0h160v-160H620v160Z\"/>\n",
              "  </svg>\n",
              "    </button>\n",
              "\n",
              "  <style>\n",
              "    .colab-df-container {\n",
              "      display:flex;\n",
              "      gap: 12px;\n",
              "    }\n",
              "\n",
              "    .colab-df-convert {\n",
              "      background-color: #E8F0FE;\n",
              "      border: none;\n",
              "      border-radius: 50%;\n",
              "      cursor: pointer;\n",
              "      display: none;\n",
              "      fill: #1967D2;\n",
              "      height: 32px;\n",
              "      padding: 0 0 0 0;\n",
              "      width: 32px;\n",
              "    }\n",
              "\n",
              "    .colab-df-convert:hover {\n",
              "      background-color: #E2EBFA;\n",
              "      box-shadow: 0px 1px 2px rgba(60, 64, 67, 0.3), 0px 1px 3px 1px rgba(60, 64, 67, 0.15);\n",
              "      fill: #174EA6;\n",
              "    }\n",
              "\n",
              "    .colab-df-buttons div {\n",
              "      margin-bottom: 4px;\n",
              "    }\n",
              "\n",
              "    [theme=dark] .colab-df-convert {\n",
              "      background-color: #3B4455;\n",
              "      fill: #D2E3FC;\n",
              "    }\n",
              "\n",
              "    [theme=dark] .colab-df-convert:hover {\n",
              "      background-color: #434B5C;\n",
              "      box-shadow: 0px 1px 3px 1px rgba(0, 0, 0, 0.15);\n",
              "      filter: drop-shadow(0px 1px 2px rgba(0, 0, 0, 0.3));\n",
              "      fill: #FFFFFF;\n",
              "    }\n",
              "  </style>\n",
              "\n",
              "    <script>\n",
              "      const buttonEl =\n",
              "        document.querySelector('#df-04083dcb-dea1-401b-9099-7004d71e90e8 button.colab-df-convert');\n",
              "      buttonEl.style.display =\n",
              "        google.colab.kernel.accessAllowed ? 'block' : 'none';\n",
              "\n",
              "      async function convertToInteractive(key) {\n",
              "        const element = document.querySelector('#df-04083dcb-dea1-401b-9099-7004d71e90e8');\n",
              "        const dataTable =\n",
              "          await google.colab.kernel.invokeFunction('convertToInteractive',\n",
              "                                                    [key], {});\n",
              "        if (!dataTable) return;\n",
              "\n",
              "        const docLinkHtml = 'Like what you see? Visit the ' +\n",
              "          '<a target=\"_blank\" href=https://colab.research.google.com/notebooks/data_table.ipynb>data table notebook</a>'\n",
              "          + ' to learn more about interactive tables.';\n",
              "        element.innerHTML = '';\n",
              "        dataTable['output_type'] = 'display_data';\n",
              "        await google.colab.output.renderOutput(dataTable, element);\n",
              "        const docLink = document.createElement('div');\n",
              "        docLink.innerHTML = docLinkHtml;\n",
              "        element.appendChild(docLink);\n",
              "      }\n",
              "    </script>\n",
              "  </div>\n",
              "\n",
              "\n",
              "<div id=\"df-aa745d0c-4c10-4391-9597-67fcd8f9d42c\">\n",
              "  <button class=\"colab-df-quickchart\" onclick=\"quickchart('df-aa745d0c-4c10-4391-9597-67fcd8f9d42c')\"\n",
              "            title=\"Suggest charts\"\n",
              "            style=\"display:none;\">\n",
              "\n",
              "<svg xmlns=\"http://www.w3.org/2000/svg\" height=\"24px\"viewBox=\"0 0 24 24\"\n",
              "     width=\"24px\">\n",
              "    <g>\n",
              "        <path d=\"M19 3H5c-1.1 0-2 .9-2 2v14c0 1.1.9 2 2 2h14c1.1 0 2-.9 2-2V5c0-1.1-.9-2-2-2zM9 17H7v-7h2v7zm4 0h-2V7h2v10zm4 0h-2v-4h2v4z\"/>\n",
              "    </g>\n",
              "</svg>\n",
              "  </button>\n",
              "\n",
              "<style>\n",
              "  .colab-df-quickchart {\n",
              "      --bg-color: #E8F0FE;\n",
              "      --fill-color: #1967D2;\n",
              "      --hover-bg-color: #E2EBFA;\n",
              "      --hover-fill-color: #174EA6;\n",
              "      --disabled-fill-color: #AAA;\n",
              "      --disabled-bg-color: #DDD;\n",
              "  }\n",
              "\n",
              "  [theme=dark] .colab-df-quickchart {\n",
              "      --bg-color: #3B4455;\n",
              "      --fill-color: #D2E3FC;\n",
              "      --hover-bg-color: #434B5C;\n",
              "      --hover-fill-color: #FFFFFF;\n",
              "      --disabled-bg-color: #3B4455;\n",
              "      --disabled-fill-color: #666;\n",
              "  }\n",
              "\n",
              "  .colab-df-quickchart {\n",
              "    background-color: var(--bg-color);\n",
              "    border: none;\n",
              "    border-radius: 50%;\n",
              "    cursor: pointer;\n",
              "    display: none;\n",
              "    fill: var(--fill-color);\n",
              "    height: 32px;\n",
              "    padding: 0;\n",
              "    width: 32px;\n",
              "  }\n",
              "\n",
              "  .colab-df-quickchart:hover {\n",
              "    background-color: var(--hover-bg-color);\n",
              "    box-shadow: 0 1px 2px rgba(60, 64, 67, 0.3), 0 1px 3px 1px rgba(60, 64, 67, 0.15);\n",
              "    fill: var(--button-hover-fill-color);\n",
              "  }\n",
              "\n",
              "  .colab-df-quickchart-complete:disabled,\n",
              "  .colab-df-quickchart-complete:disabled:hover {\n",
              "    background-color: var(--disabled-bg-color);\n",
              "    fill: var(--disabled-fill-color);\n",
              "    box-shadow: none;\n",
              "  }\n",
              "\n",
              "  .colab-df-spinner {\n",
              "    border: 2px solid var(--fill-color);\n",
              "    border-color: transparent;\n",
              "    border-bottom-color: var(--fill-color);\n",
              "    animation:\n",
              "      spin 1s steps(1) infinite;\n",
              "  }\n",
              "\n",
              "  @keyframes spin {\n",
              "    0% {\n",
              "      border-color: transparent;\n",
              "      border-bottom-color: var(--fill-color);\n",
              "      border-left-color: var(--fill-color);\n",
              "    }\n",
              "    20% {\n",
              "      border-color: transparent;\n",
              "      border-left-color: var(--fill-color);\n",
              "      border-top-color: var(--fill-color);\n",
              "    }\n",
              "    30% {\n",
              "      border-color: transparent;\n",
              "      border-left-color: var(--fill-color);\n",
              "      border-top-color: var(--fill-color);\n",
              "      border-right-color: var(--fill-color);\n",
              "    }\n",
              "    40% {\n",
              "      border-color: transparent;\n",
              "      border-right-color: var(--fill-color);\n",
              "      border-top-color: var(--fill-color);\n",
              "    }\n",
              "    60% {\n",
              "      border-color: transparent;\n",
              "      border-right-color: var(--fill-color);\n",
              "    }\n",
              "    80% {\n",
              "      border-color: transparent;\n",
              "      border-right-color: var(--fill-color);\n",
              "      border-bottom-color: var(--fill-color);\n",
              "    }\n",
              "    90% {\n",
              "      border-color: transparent;\n",
              "      border-bottom-color: var(--fill-color);\n",
              "    }\n",
              "  }\n",
              "</style>\n",
              "\n",
              "  <script>\n",
              "    async function quickchart(key) {\n",
              "      const quickchartButtonEl =\n",
              "        document.querySelector('#' + key + ' button');\n",
              "      quickchartButtonEl.disabled = true;  // To prevent multiple clicks.\n",
              "      quickchartButtonEl.classList.add('colab-df-spinner');\n",
              "      try {\n",
              "        const charts = await google.colab.kernel.invokeFunction(\n",
              "            'suggestCharts', [key], {});\n",
              "      } catch (error) {\n",
              "        console.error('Error during call to suggestCharts:', error);\n",
              "      }\n",
              "      quickchartButtonEl.classList.remove('colab-df-spinner');\n",
              "      quickchartButtonEl.classList.add('colab-df-quickchart-complete');\n",
              "    }\n",
              "    (() => {\n",
              "      let quickchartButtonEl =\n",
              "        document.querySelector('#df-aa745d0c-4c10-4391-9597-67fcd8f9d42c button');\n",
              "      quickchartButtonEl.style.display =\n",
              "        google.colab.kernel.accessAllowed ? 'block' : 'none';\n",
              "    })();\n",
              "  </script>\n",
              "</div>\n",
              "\n",
              "    </div>\n",
              "  </div>\n"
            ],
            "application/vnd.google.colaboratory.intrinsic+json": {
              "type": "dataframe",
              "summary": "{\n  \"name\": \"pd\",\n  \"rows\": 2639,\n  \"fields\": [\n    {\n      \"column\": \"FIRST NAME\",\n      \"properties\": {\n        \"dtype\": \"string\",\n        \"num_unique_values\": 2367,\n        \"samples\": [\n          \"WILBUR\",\n          \"SANDI\",\n          \"BROOKS\"\n        ],\n        \"semantic_type\": \"\",\n        \"description\": \"\"\n      }\n    },\n    {\n      \"column\": \"LAST NAME\",\n      \"properties\": {\n        \"dtype\": \"string\",\n        \"num_unique_values\": 2475,\n        \"samples\": [\n          \"AKLEY\",\n          \"ADAMEC\",\n          \"ADELGREN\"\n        ],\n        \"semantic_type\": \"\",\n        \"description\": \"\"\n      }\n    },\n    {\n      \"column\": \"SEX\",\n      \"properties\": {\n        \"dtype\": \"category\",\n        \"num_unique_values\": 2,\n        \"samples\": [\n          \"M\",\n          \"F\"\n        ],\n        \"semantic_type\": \"\",\n        \"description\": \"\"\n      }\n    },\n    {\n      \"column\": \"DOJ\",\n      \"properties\": {\n        \"dtype\": \"object\",\n        \"num_unique_values\": 967,\n        \"samples\": [\n          \"5-27-2014\",\n          \"6-20-2011\"\n        ],\n        \"semantic_type\": \"\",\n        \"description\": \"\"\n      }\n    },\n    {\n      \"column\": \"CURRENT DATE\",\n      \"properties\": {\n        \"dtype\": \"object\",\n        \"num_unique_values\": 1,\n        \"samples\": [\n          \"01-07-2016\"\n        ],\n        \"semantic_type\": \"\",\n        \"description\": \"\"\n      }\n    },\n    {\n      \"column\": \"DESIGNATION\",\n      \"properties\": {\n        \"dtype\": \"category\",\n        \"num_unique_values\": 6,\n        \"samples\": [\n          \"Analyst\"\n        ],\n        \"semantic_type\": \"\",\n        \"description\": \"\"\n      }\n    },\n    {\n      \"column\": \"AGE\",\n      \"properties\": {\n        \"dtype\": \"number\",\n        \"std\": 3.9082280917992382,\n        \"min\": 21.0,\n        \"max\": 45.0,\n        \"num_unique_values\": 25,\n        \"samples\": [\n          29.0\n        ],\n        \"semantic_type\": \"\",\n        \"description\": \"\"\n      }\n    },\n    {\n      \"column\": \"SALARY\",\n      \"properties\": {\n        \"dtype\": \"number\",\n        \"std\": 36876,\n        \"min\": 40001,\n        \"max\": 388112,\n        \"num_unique_values\": 2305,\n        \"samples\": [\n          41452\n        ],\n        \"semantic_type\": \"\",\n        \"description\": \"\"\n      }\n    },\n    {\n      \"column\": \"UNIT\",\n      \"properties\": {\n        \"dtype\": \"category\",\n        \"num_unique_values\": 6,\n        \"samples\": [\n          \"Finance\"\n        ],\n        \"semantic_type\": \"\",\n        \"description\": \"\"\n      }\n    },\n    {\n      \"column\": \"LEAVES USED\",\n      \"properties\": {\n        \"dtype\": \"number\",\n        \"std\": 4.604469156851162,\n        \"min\": 15.0,\n        \"max\": 30.0,\n        \"num_unique_values\": 16,\n        \"samples\": [\n          24.0\n        ],\n        \"semantic_type\": \"\",\n        \"description\": \"\"\n      }\n    },\n    {\n      \"column\": \"LEAVES REMAINING\",\n      \"properties\": {\n        \"dtype\": \"number\",\n        \"std\": 4.603193067791429,\n        \"min\": 0.0,\n        \"max\": 15.0,\n        \"num_unique_values\": 16,\n        \"samples\": [\n          6.0\n        ],\n        \"semantic_type\": \"\",\n        \"description\": \"\"\n      }\n    },\n    {\n      \"column\": \"RATINGS\",\n      \"properties\": {\n        \"dtype\": \"number\",\n        \"std\": 1.1149325778559014,\n        \"min\": 2.0,\n        \"max\": 5.0,\n        \"num_unique_values\": 4,\n        \"samples\": [\n          3.0\n        ],\n        \"semantic_type\": \"\",\n        \"description\": \"\"\n      }\n    },\n    {\n      \"column\": \"PAST EXP\",\n      \"properties\": {\n        \"dtype\": \"number\",\n        \"std\": 2,\n        \"min\": 0,\n        \"max\": 23,\n        \"num_unique_values\": 21,\n        \"samples\": [\n          0\n        ],\n        \"semantic_type\": \"\",\n        \"description\": \"\"\n      }\n    }\n  ]\n}"
            }
          },
          "metadata": {},
          "execution_count": 2
        }
      ]
    },
    {
      "cell_type": "code",
      "source": [
        "data=pd.read_csv('Salary Prediction of Data Professions.csv')\n",
        "print(data)"
      ],
      "metadata": {
        "colab": {
          "base_uri": "https://localhost:8080/"
        },
        "id": "zRBZTQKkTn1J",
        "outputId": "100cc38f-3f83-409f-90c6-cbc3c860509d"
      },
      "execution_count": 3,
      "outputs": [
        {
          "output_type": "stream",
          "name": "stdout",
          "text": [
            "     FIRST NAME   LAST NAME SEX         DOJ CURRENT DATE     DESIGNATION  \\\n",
            "0        TOMASA       ARMEN   F   5-18-2014   01-07-2016         Analyst   \n",
            "1         ANNIE         NaN   F         NaN   01-07-2016       Associate   \n",
            "2         OLIVE        ANCY   F   7-28-2014   01-07-2016         Analyst   \n",
            "3        CHERRY     AQUILAR   F  04-03-2013   01-07-2016         Analyst   \n",
            "4          LEON  ABOULAHOUD   M  11-20-2014   01-07-2016         Analyst   \n",
            "...         ...         ...  ..         ...          ...             ...   \n",
            "2634  KATHERINE      ALSDON   F   6-28-2011   01-07-2016  Senior Manager   \n",
            "2635     LOUISE     ALTARAS   F   1-14-2014   01-07-2016         Analyst   \n",
            "2636      RENEE      ALVINO   F   1-23-2014   01-07-2016         Analyst   \n",
            "2637       TERI   ANASTASIO   F   3-17-2014   01-07-2016         Analyst   \n",
            "2638    GREGORY      ABARCA   M   9-18-2014   01-07-2016         Analyst   \n",
            "\n",
            "       AGE  SALARY        UNIT  LEAVES USED  LEAVES REMAINING  RATINGS  \\\n",
            "0     21.0   44570     Finance         24.0               6.0      2.0   \n",
            "1      NaN   89207         Web          NaN              13.0      NaN   \n",
            "2     21.0   40955     Finance         23.0               7.0      3.0   \n",
            "3     22.0   45550          IT         22.0               8.0      3.0   \n",
            "4      NaN   43161  Operations         27.0               3.0      NaN   \n",
            "...    ...     ...         ...          ...               ...      ...   \n",
            "2634  36.0  185977  Management         15.0              15.0      5.0   \n",
            "2635  23.0   45758          IT         17.0              13.0      2.0   \n",
            "2636  21.0   47315         Web         29.0               1.0      5.0   \n",
            "2637  24.0   45172         Web         23.0               7.0      3.0   \n",
            "2638  24.0   49176   Marketing         17.0              13.0      2.0   \n",
            "\n",
            "      PAST EXP  \n",
            "0            0  \n",
            "1            7  \n",
            "2            0  \n",
            "3            0  \n",
            "4            3  \n",
            "...        ...  \n",
            "2634        10  \n",
            "2635         0  \n",
            "2636         0  \n",
            "2637         1  \n",
            "2638         2  \n",
            "\n",
            "[2639 rows x 13 columns]\n"
          ]
        }
      ]
    },
    {
      "cell_type": "code",
      "source": [
        "data.info()"
      ],
      "metadata": {
        "colab": {
          "base_uri": "https://localhost:8080/"
        },
        "id": "s7OvIBglTtv9",
        "outputId": "0c76b20b-9005-4b6a-9209-34701430cb8f"
      },
      "execution_count": 4,
      "outputs": [
        {
          "output_type": "stream",
          "name": "stdout",
          "text": [
            "<class 'pandas.core.frame.DataFrame'>\n",
            "RangeIndex: 2639 entries, 0 to 2638\n",
            "Data columns (total 13 columns):\n",
            " #   Column            Non-Null Count  Dtype  \n",
            "---  ------            --------------  -----  \n",
            " 0   FIRST NAME        2639 non-null   object \n",
            " 1   LAST NAME         2637 non-null   object \n",
            " 2   SEX               2639 non-null   object \n",
            " 3   DOJ               2638 non-null   object \n",
            " 4   CURRENT DATE      2639 non-null   object \n",
            " 5   DESIGNATION       2639 non-null   object \n",
            " 6   AGE               2636 non-null   float64\n",
            " 7   SALARY            2639 non-null   int64  \n",
            " 8   UNIT              2639 non-null   object \n",
            " 9   LEAVES USED       2636 non-null   float64\n",
            " 10  LEAVES REMAINING  2637 non-null   float64\n",
            " 11  RATINGS           2637 non-null   float64\n",
            " 12  PAST EXP          2639 non-null   int64  \n",
            "dtypes: float64(4), int64(2), object(7)\n",
            "memory usage: 268.1+ KB\n"
          ]
        }
      ]
    },
    {
      "cell_type": "code",
      "source": [
        "data.describe()"
      ],
      "metadata": {
        "colab": {
          "base_uri": "https://localhost:8080/",
          "height": 300
        },
        "id": "O_yhSGnhT0-p",
        "outputId": "d9afc6be-3776-41c9-d7a4-39e33209537a"
      },
      "execution_count": 5,
      "outputs": [
        {
          "output_type": "execute_result",
          "data": {
            "text/plain": [
              "               AGE         SALARY  LEAVES USED  LEAVES REMAINING      RATINGS  \\\n",
              "count  2636.000000    2639.000000  2636.000000       2637.000000  2637.000000   \n",
              "mean     24.756449   58136.678287    22.501517          7.503223     3.486159   \n",
              "std       3.908228   36876.956944     4.604469          4.603193     1.114933   \n",
              "min      21.000000   40001.000000    15.000000          0.000000     2.000000   \n",
              "25%      22.000000   43418.000000    19.000000          4.000000     2.000000   \n",
              "50%      24.000000   46781.000000    22.000000          8.000000     3.000000   \n",
              "75%      25.000000   51401.500000    26.000000         11.000000     4.000000   \n",
              "max      45.000000  388112.000000    30.000000         15.000000     5.000000   \n",
              "\n",
              "          PAST EXP  \n",
              "count  2639.000000  \n",
              "mean      1.566881  \n",
              "std       2.728416  \n",
              "min       0.000000  \n",
              "25%       0.000000  \n",
              "50%       1.000000  \n",
              "75%       2.000000  \n",
              "max      23.000000  "
            ],
            "text/html": [
              "\n",
              "  <div id=\"df-3612df48-d13f-478e-ba66-36d771cca7c2\" class=\"colab-df-container\">\n",
              "    <div>\n",
              "<style scoped>\n",
              "    .dataframe tbody tr th:only-of-type {\n",
              "        vertical-align: middle;\n",
              "    }\n",
              "\n",
              "    .dataframe tbody tr th {\n",
              "        vertical-align: top;\n",
              "    }\n",
              "\n",
              "    .dataframe thead th {\n",
              "        text-align: right;\n",
              "    }\n",
              "</style>\n",
              "<table border=\"1\" class=\"dataframe\">\n",
              "  <thead>\n",
              "    <tr style=\"text-align: right;\">\n",
              "      <th></th>\n",
              "      <th>AGE</th>\n",
              "      <th>SALARY</th>\n",
              "      <th>LEAVES USED</th>\n",
              "      <th>LEAVES REMAINING</th>\n",
              "      <th>RATINGS</th>\n",
              "      <th>PAST EXP</th>\n",
              "    </tr>\n",
              "  </thead>\n",
              "  <tbody>\n",
              "    <tr>\n",
              "      <th>count</th>\n",
              "      <td>2636.000000</td>\n",
              "      <td>2639.000000</td>\n",
              "      <td>2636.000000</td>\n",
              "      <td>2637.000000</td>\n",
              "      <td>2637.000000</td>\n",
              "      <td>2639.000000</td>\n",
              "    </tr>\n",
              "    <tr>\n",
              "      <th>mean</th>\n",
              "      <td>24.756449</td>\n",
              "      <td>58136.678287</td>\n",
              "      <td>22.501517</td>\n",
              "      <td>7.503223</td>\n",
              "      <td>3.486159</td>\n",
              "      <td>1.566881</td>\n",
              "    </tr>\n",
              "    <tr>\n",
              "      <th>std</th>\n",
              "      <td>3.908228</td>\n",
              "      <td>36876.956944</td>\n",
              "      <td>4.604469</td>\n",
              "      <td>4.603193</td>\n",
              "      <td>1.114933</td>\n",
              "      <td>2.728416</td>\n",
              "    </tr>\n",
              "    <tr>\n",
              "      <th>min</th>\n",
              "      <td>21.000000</td>\n",
              "      <td>40001.000000</td>\n",
              "      <td>15.000000</td>\n",
              "      <td>0.000000</td>\n",
              "      <td>2.000000</td>\n",
              "      <td>0.000000</td>\n",
              "    </tr>\n",
              "    <tr>\n",
              "      <th>25%</th>\n",
              "      <td>22.000000</td>\n",
              "      <td>43418.000000</td>\n",
              "      <td>19.000000</td>\n",
              "      <td>4.000000</td>\n",
              "      <td>2.000000</td>\n",
              "      <td>0.000000</td>\n",
              "    </tr>\n",
              "    <tr>\n",
              "      <th>50%</th>\n",
              "      <td>24.000000</td>\n",
              "      <td>46781.000000</td>\n",
              "      <td>22.000000</td>\n",
              "      <td>8.000000</td>\n",
              "      <td>3.000000</td>\n",
              "      <td>1.000000</td>\n",
              "    </tr>\n",
              "    <tr>\n",
              "      <th>75%</th>\n",
              "      <td>25.000000</td>\n",
              "      <td>51401.500000</td>\n",
              "      <td>26.000000</td>\n",
              "      <td>11.000000</td>\n",
              "      <td>4.000000</td>\n",
              "      <td>2.000000</td>\n",
              "    </tr>\n",
              "    <tr>\n",
              "      <th>max</th>\n",
              "      <td>45.000000</td>\n",
              "      <td>388112.000000</td>\n",
              "      <td>30.000000</td>\n",
              "      <td>15.000000</td>\n",
              "      <td>5.000000</td>\n",
              "      <td>23.000000</td>\n",
              "    </tr>\n",
              "  </tbody>\n",
              "</table>\n",
              "</div>\n",
              "    <div class=\"colab-df-buttons\">\n",
              "\n",
              "  <div class=\"colab-df-container\">\n",
              "    <button class=\"colab-df-convert\" onclick=\"convertToInteractive('df-3612df48-d13f-478e-ba66-36d771cca7c2')\"\n",
              "            title=\"Convert this dataframe to an interactive table.\"\n",
              "            style=\"display:none;\">\n",
              "\n",
              "  <svg xmlns=\"http://www.w3.org/2000/svg\" height=\"24px\" viewBox=\"0 -960 960 960\">\n",
              "    <path d=\"M120-120v-720h720v720H120Zm60-500h600v-160H180v160Zm220 220h160v-160H400v160Zm0 220h160v-160H400v160ZM180-400h160v-160H180v160Zm440 0h160v-160H620v160ZM180-180h160v-160H180v160Zm440 0h160v-160H620v160Z\"/>\n",
              "  </svg>\n",
              "    </button>\n",
              "\n",
              "  <style>\n",
              "    .colab-df-container {\n",
              "      display:flex;\n",
              "      gap: 12px;\n",
              "    }\n",
              "\n",
              "    .colab-df-convert {\n",
              "      background-color: #E8F0FE;\n",
              "      border: none;\n",
              "      border-radius: 50%;\n",
              "      cursor: pointer;\n",
              "      display: none;\n",
              "      fill: #1967D2;\n",
              "      height: 32px;\n",
              "      padding: 0 0 0 0;\n",
              "      width: 32px;\n",
              "    }\n",
              "\n",
              "    .colab-df-convert:hover {\n",
              "      background-color: #E2EBFA;\n",
              "      box-shadow: 0px 1px 2px rgba(60, 64, 67, 0.3), 0px 1px 3px 1px rgba(60, 64, 67, 0.15);\n",
              "      fill: #174EA6;\n",
              "    }\n",
              "\n",
              "    .colab-df-buttons div {\n",
              "      margin-bottom: 4px;\n",
              "    }\n",
              "\n",
              "    [theme=dark] .colab-df-convert {\n",
              "      background-color: #3B4455;\n",
              "      fill: #D2E3FC;\n",
              "    }\n",
              "\n",
              "    [theme=dark] .colab-df-convert:hover {\n",
              "      background-color: #434B5C;\n",
              "      box-shadow: 0px 1px 3px 1px rgba(0, 0, 0, 0.15);\n",
              "      filter: drop-shadow(0px 1px 2px rgba(0, 0, 0, 0.3));\n",
              "      fill: #FFFFFF;\n",
              "    }\n",
              "  </style>\n",
              "\n",
              "    <script>\n",
              "      const buttonEl =\n",
              "        document.querySelector('#df-3612df48-d13f-478e-ba66-36d771cca7c2 button.colab-df-convert');\n",
              "      buttonEl.style.display =\n",
              "        google.colab.kernel.accessAllowed ? 'block' : 'none';\n",
              "\n",
              "      async function convertToInteractive(key) {\n",
              "        const element = document.querySelector('#df-3612df48-d13f-478e-ba66-36d771cca7c2');\n",
              "        const dataTable =\n",
              "          await google.colab.kernel.invokeFunction('convertToInteractive',\n",
              "                                                    [key], {});\n",
              "        if (!dataTable) return;\n",
              "\n",
              "        const docLinkHtml = 'Like what you see? Visit the ' +\n",
              "          '<a target=\"_blank\" href=https://colab.research.google.com/notebooks/data_table.ipynb>data table notebook</a>'\n",
              "          + ' to learn more about interactive tables.';\n",
              "        element.innerHTML = '';\n",
              "        dataTable['output_type'] = 'display_data';\n",
              "        await google.colab.output.renderOutput(dataTable, element);\n",
              "        const docLink = document.createElement('div');\n",
              "        docLink.innerHTML = docLinkHtml;\n",
              "        element.appendChild(docLink);\n",
              "      }\n",
              "    </script>\n",
              "  </div>\n",
              "\n",
              "\n",
              "<div id=\"df-6280c83a-1902-485e-b241-a0f4e502c30b\">\n",
              "  <button class=\"colab-df-quickchart\" onclick=\"quickchart('df-6280c83a-1902-485e-b241-a0f4e502c30b')\"\n",
              "            title=\"Suggest charts\"\n",
              "            style=\"display:none;\">\n",
              "\n",
              "<svg xmlns=\"http://www.w3.org/2000/svg\" height=\"24px\"viewBox=\"0 0 24 24\"\n",
              "     width=\"24px\">\n",
              "    <g>\n",
              "        <path d=\"M19 3H5c-1.1 0-2 .9-2 2v14c0 1.1.9 2 2 2h14c1.1 0 2-.9 2-2V5c0-1.1-.9-2-2-2zM9 17H7v-7h2v7zm4 0h-2V7h2v10zm4 0h-2v-4h2v4z\"/>\n",
              "    </g>\n",
              "</svg>\n",
              "  </button>\n",
              "\n",
              "<style>\n",
              "  .colab-df-quickchart {\n",
              "      --bg-color: #E8F0FE;\n",
              "      --fill-color: #1967D2;\n",
              "      --hover-bg-color: #E2EBFA;\n",
              "      --hover-fill-color: #174EA6;\n",
              "      --disabled-fill-color: #AAA;\n",
              "      --disabled-bg-color: #DDD;\n",
              "  }\n",
              "\n",
              "  [theme=dark] .colab-df-quickchart {\n",
              "      --bg-color: #3B4455;\n",
              "      --fill-color: #D2E3FC;\n",
              "      --hover-bg-color: #434B5C;\n",
              "      --hover-fill-color: #FFFFFF;\n",
              "      --disabled-bg-color: #3B4455;\n",
              "      --disabled-fill-color: #666;\n",
              "  }\n",
              "\n",
              "  .colab-df-quickchart {\n",
              "    background-color: var(--bg-color);\n",
              "    border: none;\n",
              "    border-radius: 50%;\n",
              "    cursor: pointer;\n",
              "    display: none;\n",
              "    fill: var(--fill-color);\n",
              "    height: 32px;\n",
              "    padding: 0;\n",
              "    width: 32px;\n",
              "  }\n",
              "\n",
              "  .colab-df-quickchart:hover {\n",
              "    background-color: var(--hover-bg-color);\n",
              "    box-shadow: 0 1px 2px rgba(60, 64, 67, 0.3), 0 1px 3px 1px rgba(60, 64, 67, 0.15);\n",
              "    fill: var(--button-hover-fill-color);\n",
              "  }\n",
              "\n",
              "  .colab-df-quickchart-complete:disabled,\n",
              "  .colab-df-quickchart-complete:disabled:hover {\n",
              "    background-color: var(--disabled-bg-color);\n",
              "    fill: var(--disabled-fill-color);\n",
              "    box-shadow: none;\n",
              "  }\n",
              "\n",
              "  .colab-df-spinner {\n",
              "    border: 2px solid var(--fill-color);\n",
              "    border-color: transparent;\n",
              "    border-bottom-color: var(--fill-color);\n",
              "    animation:\n",
              "      spin 1s steps(1) infinite;\n",
              "  }\n",
              "\n",
              "  @keyframes spin {\n",
              "    0% {\n",
              "      border-color: transparent;\n",
              "      border-bottom-color: var(--fill-color);\n",
              "      border-left-color: var(--fill-color);\n",
              "    }\n",
              "    20% {\n",
              "      border-color: transparent;\n",
              "      border-left-color: var(--fill-color);\n",
              "      border-top-color: var(--fill-color);\n",
              "    }\n",
              "    30% {\n",
              "      border-color: transparent;\n",
              "      border-left-color: var(--fill-color);\n",
              "      border-top-color: var(--fill-color);\n",
              "      border-right-color: var(--fill-color);\n",
              "    }\n",
              "    40% {\n",
              "      border-color: transparent;\n",
              "      border-right-color: var(--fill-color);\n",
              "      border-top-color: var(--fill-color);\n",
              "    }\n",
              "    60% {\n",
              "      border-color: transparent;\n",
              "      border-right-color: var(--fill-color);\n",
              "    }\n",
              "    80% {\n",
              "      border-color: transparent;\n",
              "      border-right-color: var(--fill-color);\n",
              "      border-bottom-color: var(--fill-color);\n",
              "    }\n",
              "    90% {\n",
              "      border-color: transparent;\n",
              "      border-bottom-color: var(--fill-color);\n",
              "    }\n",
              "  }\n",
              "</style>\n",
              "\n",
              "  <script>\n",
              "    async function quickchart(key) {\n",
              "      const quickchartButtonEl =\n",
              "        document.querySelector('#' + key + ' button');\n",
              "      quickchartButtonEl.disabled = true;  // To prevent multiple clicks.\n",
              "      quickchartButtonEl.classList.add('colab-df-spinner');\n",
              "      try {\n",
              "        const charts = await google.colab.kernel.invokeFunction(\n",
              "            'suggestCharts', [key], {});\n",
              "      } catch (error) {\n",
              "        console.error('Error during call to suggestCharts:', error);\n",
              "      }\n",
              "      quickchartButtonEl.classList.remove('colab-df-spinner');\n",
              "      quickchartButtonEl.classList.add('colab-df-quickchart-complete');\n",
              "    }\n",
              "    (() => {\n",
              "      let quickchartButtonEl =\n",
              "        document.querySelector('#df-6280c83a-1902-485e-b241-a0f4e502c30b button');\n",
              "      quickchartButtonEl.style.display =\n",
              "        google.colab.kernel.accessAllowed ? 'block' : 'none';\n",
              "    })();\n",
              "  </script>\n",
              "</div>\n",
              "\n",
              "    </div>\n",
              "  </div>\n"
            ],
            "application/vnd.google.colaboratory.intrinsic+json": {
              "type": "dataframe",
              "summary": "{\n  \"name\": \"data\",\n  \"rows\": 8,\n  \"fields\": [\n    {\n      \"column\": \"AGE\",\n      \"properties\": {\n        \"dtype\": \"number\",\n        \"std\": 923.665797287267,\n        \"min\": 3.9082280917992382,\n        \"max\": 2636.0,\n        \"num_unique_values\": 8,\n        \"samples\": [\n          24.756449165402124,\n          24.0,\n          2636.0\n        ],\n        \"semantic_type\": \"\",\n        \"description\": \"\"\n      }\n    },\n    {\n      \"column\": \"SALARY\",\n      \"properties\": {\n        \"dtype\": \"number\",\n        \"std\": 124224.02359234895,\n        \"min\": 2639.0,\n        \"max\": 388112.0,\n        \"num_unique_values\": 8,\n        \"samples\": [\n          58136.67828723001,\n          46781.0,\n          2639.0\n        ],\n        \"semantic_type\": \"\",\n        \"description\": \"\"\n      }\n    },\n    {\n      \"column\": \"LEAVES USED\",\n      \"properties\": {\n        \"dtype\": \"number\",\n        \"std\": 924.9724215819842,\n        \"min\": 4.604469156851162,\n        \"max\": 2636.0,\n        \"num_unique_values\": 8,\n        \"samples\": [\n          22.501517450682854,\n          22.0,\n          2636.0\n        ],\n        \"semantic_type\": \"\",\n        \"description\": \"\"\n      }\n    },\n    {\n      \"column\": \"LEAVES REMAINING\",\n      \"properties\": {\n        \"dtype\": \"number\",\n        \"std\": 929.8006603642343,\n        \"min\": 0.0,\n        \"max\": 2637.0,\n        \"num_unique_values\": 8,\n        \"samples\": [\n          7.50322335987865,\n          8.0,\n          2637.0\n        ],\n        \"semantic_type\": \"\",\n        \"description\": \"\"\n      }\n    },\n    {\n      \"column\": \"RATINGS\",\n      \"properties\": {\n        \"dtype\": \"number\",\n        \"std\": 931.2806045942954,\n        \"min\": 1.1149325778559014,\n        \"max\": 2637.0,\n        \"num_unique_values\": 7,\n        \"samples\": [\n          2637.0,\n          3.486158513462268,\n          4.0\n        ],\n        \"semantic_type\": \"\",\n        \"description\": \"\"\n      }\n    },\n    {\n      \"column\": \"PAST EXP\",\n      \"properties\": {\n        \"dtype\": \"number\",\n        \"std\": 931.5289065458286,\n        \"min\": 0.0,\n        \"max\": 2639.0,\n        \"num_unique_values\": 7,\n        \"samples\": [\n          2639.0,\n          1.5668813944676014,\n          2.0\n        ],\n        \"semantic_type\": \"\",\n        \"description\": \"\"\n      }\n    }\n  ]\n}"
            }
          },
          "metadata": {},
          "execution_count": 5
        }
      ]
    },
    {
      "cell_type": "code",
      "source": [
        "rows, columns = data.shape\n",
        "print(f'The DataFrame has {rows} rows and {columns} columns.')"
      ],
      "metadata": {
        "colab": {
          "base_uri": "https://localhost:8080/"
        },
        "id": "glCwkQ5UT7U6",
        "outputId": "3c999553-7cfe-4fee-f2c3-080dec1308f2"
      },
      "execution_count": 6,
      "outputs": [
        {
          "output_type": "stream",
          "name": "stdout",
          "text": [
            "The DataFrame has 2639 rows and 13 columns.\n"
          ]
        }
      ]
    },
    {
      "cell_type": "code",
      "source": [
        "data = data.drop(data.columns[[0,1,2,6,9,10]], axis=1)\n",
        "data.to_csv('Salary Prediction of Data Professions.csv', index=False)"
      ],
      "metadata": {
        "id": "agvk-qDDT-2R"
      },
      "execution_count": 7,
      "outputs": []
    },
    {
      "cell_type": "code",
      "source": [
        "data['DOJ'] = pd.to_datetime(data['DOJ'])\n",
        "data['CURRENT DATE'] = pd.to_datetime(data['CURRENT DATE'])\n",
        "#Calculate Tenure: Calculate the TENURE as the difference between CURRENT DATE and DOJ in years.\n",
        "data['TENURE'] = (data['CURRENT DATE'] - data['DOJ']).dt.days / 365\n",
        "\n",
        "data = data.drop(columns=['DOJ', 'CURRENT DATE'])\n",
        "data.to_csv('Salary Prediction of Data Professions.csv', index=False)"
      ],
      "metadata": {
        "id": "6UWy2ZL1UgeU"
      },
      "execution_count": 8,
      "outputs": []
    },
    {
      "cell_type": "code",
      "source": [
        "data.info()\n",
        "rows, columns = data.shape\n",
        "print(f'The DataFrame has {rows} rows and {columns} columns.')"
      ],
      "metadata": {
        "colab": {
          "base_uri": "https://localhost:8080/"
        },
        "id": "w71LhvtkUjPs",
        "outputId": "207c945d-c278-4fd6-e69b-0a59c040e26e"
      },
      "execution_count": 9,
      "outputs": [
        {
          "output_type": "stream",
          "name": "stdout",
          "text": [
            "<class 'pandas.core.frame.DataFrame'>\n",
            "RangeIndex: 2639 entries, 0 to 2638\n",
            "Data columns (total 6 columns):\n",
            " #   Column       Non-Null Count  Dtype  \n",
            "---  ------       --------------  -----  \n",
            " 0   DESIGNATION  2639 non-null   object \n",
            " 1   SALARY       2639 non-null   int64  \n",
            " 2   UNIT         2639 non-null   object \n",
            " 3   RATINGS      2637 non-null   float64\n",
            " 4   PAST EXP     2639 non-null   int64  \n",
            " 5   TENURE       2638 non-null   float64\n",
            "dtypes: float64(2), int64(2), object(2)\n",
            "memory usage: 123.8+ KB\n",
            "The DataFrame has 2639 rows and 6 columns.\n"
          ]
        }
      ]
    },
    {
      "cell_type": "code",
      "source": [
        "column=list(data.columns)\n",
        "\n",
        "column.remove('SALARY')\n",
        "\n",
        "#Insert the column at the new position:\n",
        "\n",
        "column.insert(5,'SALARY')\n",
        "\n",
        "#Reassign the columns to the dataframe:\n",
        "\n",
        "data= data[column]\n",
        "\n",
        "\n",
        "data.to_csv('Salary Prediction of Data Professions.csv', index=False)"
      ],
      "metadata": {
        "id": "DwYXocuSUlou"
      },
      "execution_count": 10,
      "outputs": []
    },
    {
      "cell_type": "code",
      "source": [
        "data.info()"
      ],
      "metadata": {
        "colab": {
          "base_uri": "https://localhost:8080/"
        },
        "id": "dKhsvSsLUq46",
        "outputId": "32101d63-4d09-417f-9156-e98932d03523"
      },
      "execution_count": 11,
      "outputs": [
        {
          "output_type": "stream",
          "name": "stdout",
          "text": [
            "<class 'pandas.core.frame.DataFrame'>\n",
            "RangeIndex: 2639 entries, 0 to 2638\n",
            "Data columns (total 6 columns):\n",
            " #   Column       Non-Null Count  Dtype  \n",
            "---  ------       --------------  -----  \n",
            " 0   DESIGNATION  2639 non-null   object \n",
            " 1   UNIT         2639 non-null   object \n",
            " 2   RATINGS      2637 non-null   float64\n",
            " 3   PAST EXP     2639 non-null   int64  \n",
            " 4   TENURE       2638 non-null   float64\n",
            " 5   SALARY       2639 non-null   int64  \n",
            "dtypes: float64(2), int64(2), object(2)\n",
            "memory usage: 123.8+ KB\n"
          ]
        }
      ]
    },
    {
      "cell_type": "code",
      "source": [
        "data[\"DESIGNATION\"].unique()"
      ],
      "metadata": {
        "colab": {
          "base_uri": "https://localhost:8080/"
        },
        "id": "1L2lN-w8Utqc",
        "outputId": "706911cd-36b4-4cfb-f2a7-4561a9ec95dd"
      },
      "execution_count": 12,
      "outputs": [
        {
          "output_type": "execute_result",
          "data": {
            "text/plain": [
              "array(['Analyst', 'Associate', 'Senior Analyst', 'Senior Manager',\n",
              "       'Manager', 'Director'], dtype=object)"
            ]
          },
          "metadata": {},
          "execution_count": 12
        }
      ]
    },
    {
      "cell_type": "code",
      "source": [
        "data[\"DESIGNATION\"].value_counts()"
      ],
      "metadata": {
        "colab": {
          "base_uri": "https://localhost:8080/"
        },
        "id": "p-CHk1fJUwx7",
        "outputId": "f0a2e3e2-7860-4d70-8746-a0c3855edbde"
      },
      "execution_count": 13,
      "outputs": [
        {
          "output_type": "execute_result",
          "data": {
            "text/plain": [
              "DESIGNATION\n",
              "Analyst           1949\n",
              "Senior Analyst     356\n",
              "Associate          159\n",
              "Manager             81\n",
              "Senior Manager      62\n",
              "Director            32\n",
              "Name: count, dtype: int64"
            ]
          },
          "metadata": {},
          "execution_count": 13
        }
      ]
    },
    {
      "cell_type": "code",
      "source": [
        "data[\"UNIT\"].unique()"
      ],
      "metadata": {
        "colab": {
          "base_uri": "https://localhost:8080/"
        },
        "id": "EIdRlKIDU0U2",
        "outputId": "c9cadb39-73c8-419d-ab5f-190fa0cb7c19"
      },
      "execution_count": 14,
      "outputs": [
        {
          "output_type": "execute_result",
          "data": {
            "text/plain": [
              "array(['Finance', 'Web', 'IT', 'Operations', 'Marketing', 'Management'],\n",
              "      dtype=object)"
            ]
          },
          "metadata": {},
          "execution_count": 14
        }
      ]
    },
    {
      "cell_type": "code",
      "source": [
        "data[\"UNIT\"].value_counts()"
      ],
      "metadata": {
        "colab": {
          "base_uri": "https://localhost:8080/"
        },
        "id": "Kcj0pDSSU2cE",
        "outputId": "2c8bedb5-6c3c-4617-d1d9-68c4ffbef569"
      },
      "execution_count": 15,
      "outputs": [
        {
          "output_type": "execute_result",
          "data": {
            "text/plain": [
              "UNIT\n",
              "IT            461\n",
              "Finance       446\n",
              "Operations    438\n",
              "Marketing     438\n",
              "Web           431\n",
              "Management    425\n",
              "Name: count, dtype: int64"
            ]
          },
          "metadata": {},
          "execution_count": 15
        }
      ]
    },
    {
      "cell_type": "code",
      "source": [
        "missing_values = data.isna().sum()\n",
        "print(\"Number of missing values in each column:\")\n",
        "print(missing_values)\n",
        "\n",
        "total_missing_values = data.isna().sum().sum()\n",
        "print(f\"\\nTotal number of missing values in the dataset: {total_missing_values}\")"
      ],
      "metadata": {
        "colab": {
          "base_uri": "https://localhost:8080/"
        },
        "id": "27SiisIGU4iv",
        "outputId": "53ae0807-1f79-4c01-adbb-287c2a042522"
      },
      "execution_count": 16,
      "outputs": [
        {
          "output_type": "stream",
          "name": "stdout",
          "text": [
            "Number of missing values in each column:\n",
            "DESIGNATION    0\n",
            "UNIT           0\n",
            "RATINGS        2\n",
            "PAST EXP       0\n",
            "TENURE         1\n",
            "SALARY         0\n",
            "dtype: int64\n",
            "\n",
            "Total number of missing values in the dataset: 3\n"
          ]
        }
      ]
    },
    {
      "cell_type": "code",
      "source": [
        "data.isna()"
      ],
      "metadata": {
        "colab": {
          "base_uri": "https://localhost:8080/",
          "height": 423
        },
        "id": "m_oaPyXOU_Ax",
        "outputId": "e452cd0a-6c2d-41f5-a46d-89ce16fa1cc3"
      },
      "execution_count": 17,
      "outputs": [
        {
          "output_type": "execute_result",
          "data": {
            "text/plain": [
              "      DESIGNATION   UNIT  RATINGS  PAST EXP  TENURE  SALARY\n",
              "0           False  False    False     False   False   False\n",
              "1           False  False     True     False    True   False\n",
              "2           False  False    False     False   False   False\n",
              "3           False  False    False     False   False   False\n",
              "4           False  False     True     False   False   False\n",
              "...           ...    ...      ...       ...     ...     ...\n",
              "2634        False  False    False     False   False   False\n",
              "2635        False  False    False     False   False   False\n",
              "2636        False  False    False     False   False   False\n",
              "2637        False  False    False     False   False   False\n",
              "2638        False  False    False     False   False   False\n",
              "\n",
              "[2639 rows x 6 columns]"
            ],
            "text/html": [
              "\n",
              "  <div id=\"df-11af53df-6b65-4553-bda8-1ab3eac35b00\" class=\"colab-df-container\">\n",
              "    <div>\n",
              "<style scoped>\n",
              "    .dataframe tbody tr th:only-of-type {\n",
              "        vertical-align: middle;\n",
              "    }\n",
              "\n",
              "    .dataframe tbody tr th {\n",
              "        vertical-align: top;\n",
              "    }\n",
              "\n",
              "    .dataframe thead th {\n",
              "        text-align: right;\n",
              "    }\n",
              "</style>\n",
              "<table border=\"1\" class=\"dataframe\">\n",
              "  <thead>\n",
              "    <tr style=\"text-align: right;\">\n",
              "      <th></th>\n",
              "      <th>DESIGNATION</th>\n",
              "      <th>UNIT</th>\n",
              "      <th>RATINGS</th>\n",
              "      <th>PAST EXP</th>\n",
              "      <th>TENURE</th>\n",
              "      <th>SALARY</th>\n",
              "    </tr>\n",
              "  </thead>\n",
              "  <tbody>\n",
              "    <tr>\n",
              "      <th>0</th>\n",
              "      <td>False</td>\n",
              "      <td>False</td>\n",
              "      <td>False</td>\n",
              "      <td>False</td>\n",
              "      <td>False</td>\n",
              "      <td>False</td>\n",
              "    </tr>\n",
              "    <tr>\n",
              "      <th>1</th>\n",
              "      <td>False</td>\n",
              "      <td>False</td>\n",
              "      <td>True</td>\n",
              "      <td>False</td>\n",
              "      <td>True</td>\n",
              "      <td>False</td>\n",
              "    </tr>\n",
              "    <tr>\n",
              "      <th>2</th>\n",
              "      <td>False</td>\n",
              "      <td>False</td>\n",
              "      <td>False</td>\n",
              "      <td>False</td>\n",
              "      <td>False</td>\n",
              "      <td>False</td>\n",
              "    </tr>\n",
              "    <tr>\n",
              "      <th>3</th>\n",
              "      <td>False</td>\n",
              "      <td>False</td>\n",
              "      <td>False</td>\n",
              "      <td>False</td>\n",
              "      <td>False</td>\n",
              "      <td>False</td>\n",
              "    </tr>\n",
              "    <tr>\n",
              "      <th>4</th>\n",
              "      <td>False</td>\n",
              "      <td>False</td>\n",
              "      <td>True</td>\n",
              "      <td>False</td>\n",
              "      <td>False</td>\n",
              "      <td>False</td>\n",
              "    </tr>\n",
              "    <tr>\n",
              "      <th>...</th>\n",
              "      <td>...</td>\n",
              "      <td>...</td>\n",
              "      <td>...</td>\n",
              "      <td>...</td>\n",
              "      <td>...</td>\n",
              "      <td>...</td>\n",
              "    </tr>\n",
              "    <tr>\n",
              "      <th>2634</th>\n",
              "      <td>False</td>\n",
              "      <td>False</td>\n",
              "      <td>False</td>\n",
              "      <td>False</td>\n",
              "      <td>False</td>\n",
              "      <td>False</td>\n",
              "    </tr>\n",
              "    <tr>\n",
              "      <th>2635</th>\n",
              "      <td>False</td>\n",
              "      <td>False</td>\n",
              "      <td>False</td>\n",
              "      <td>False</td>\n",
              "      <td>False</td>\n",
              "      <td>False</td>\n",
              "    </tr>\n",
              "    <tr>\n",
              "      <th>2636</th>\n",
              "      <td>False</td>\n",
              "      <td>False</td>\n",
              "      <td>False</td>\n",
              "      <td>False</td>\n",
              "      <td>False</td>\n",
              "      <td>False</td>\n",
              "    </tr>\n",
              "    <tr>\n",
              "      <th>2637</th>\n",
              "      <td>False</td>\n",
              "      <td>False</td>\n",
              "      <td>False</td>\n",
              "      <td>False</td>\n",
              "      <td>False</td>\n",
              "      <td>False</td>\n",
              "    </tr>\n",
              "    <tr>\n",
              "      <th>2638</th>\n",
              "      <td>False</td>\n",
              "      <td>False</td>\n",
              "      <td>False</td>\n",
              "      <td>False</td>\n",
              "      <td>False</td>\n",
              "      <td>False</td>\n",
              "    </tr>\n",
              "  </tbody>\n",
              "</table>\n",
              "<p>2639 rows × 6 columns</p>\n",
              "</div>\n",
              "    <div class=\"colab-df-buttons\">\n",
              "\n",
              "  <div class=\"colab-df-container\">\n",
              "    <button class=\"colab-df-convert\" onclick=\"convertToInteractive('df-11af53df-6b65-4553-bda8-1ab3eac35b00')\"\n",
              "            title=\"Convert this dataframe to an interactive table.\"\n",
              "            style=\"display:none;\">\n",
              "\n",
              "  <svg xmlns=\"http://www.w3.org/2000/svg\" height=\"24px\" viewBox=\"0 -960 960 960\">\n",
              "    <path d=\"M120-120v-720h720v720H120Zm60-500h600v-160H180v160Zm220 220h160v-160H400v160Zm0 220h160v-160H400v160ZM180-400h160v-160H180v160Zm440 0h160v-160H620v160ZM180-180h160v-160H180v160Zm440 0h160v-160H620v160Z\"/>\n",
              "  </svg>\n",
              "    </button>\n",
              "\n",
              "  <style>\n",
              "    .colab-df-container {\n",
              "      display:flex;\n",
              "      gap: 12px;\n",
              "    }\n",
              "\n",
              "    .colab-df-convert {\n",
              "      background-color: #E8F0FE;\n",
              "      border: none;\n",
              "      border-radius: 50%;\n",
              "      cursor: pointer;\n",
              "      display: none;\n",
              "      fill: #1967D2;\n",
              "      height: 32px;\n",
              "      padding: 0 0 0 0;\n",
              "      width: 32px;\n",
              "    }\n",
              "\n",
              "    .colab-df-convert:hover {\n",
              "      background-color: #E2EBFA;\n",
              "      box-shadow: 0px 1px 2px rgba(60, 64, 67, 0.3), 0px 1px 3px 1px rgba(60, 64, 67, 0.15);\n",
              "      fill: #174EA6;\n",
              "    }\n",
              "\n",
              "    .colab-df-buttons div {\n",
              "      margin-bottom: 4px;\n",
              "    }\n",
              "\n",
              "    [theme=dark] .colab-df-convert {\n",
              "      background-color: #3B4455;\n",
              "      fill: #D2E3FC;\n",
              "    }\n",
              "\n",
              "    [theme=dark] .colab-df-convert:hover {\n",
              "      background-color: #434B5C;\n",
              "      box-shadow: 0px 1px 3px 1px rgba(0, 0, 0, 0.15);\n",
              "      filter: drop-shadow(0px 1px 2px rgba(0, 0, 0, 0.3));\n",
              "      fill: #FFFFFF;\n",
              "    }\n",
              "  </style>\n",
              "\n",
              "    <script>\n",
              "      const buttonEl =\n",
              "        document.querySelector('#df-11af53df-6b65-4553-bda8-1ab3eac35b00 button.colab-df-convert');\n",
              "      buttonEl.style.display =\n",
              "        google.colab.kernel.accessAllowed ? 'block' : 'none';\n",
              "\n",
              "      async function convertToInteractive(key) {\n",
              "        const element = document.querySelector('#df-11af53df-6b65-4553-bda8-1ab3eac35b00');\n",
              "        const dataTable =\n",
              "          await google.colab.kernel.invokeFunction('convertToInteractive',\n",
              "                                                    [key], {});\n",
              "        if (!dataTable) return;\n",
              "\n",
              "        const docLinkHtml = 'Like what you see? Visit the ' +\n",
              "          '<a target=\"_blank\" href=https://colab.research.google.com/notebooks/data_table.ipynb>data table notebook</a>'\n",
              "          + ' to learn more about interactive tables.';\n",
              "        element.innerHTML = '';\n",
              "        dataTable['output_type'] = 'display_data';\n",
              "        await google.colab.output.renderOutput(dataTable, element);\n",
              "        const docLink = document.createElement('div');\n",
              "        docLink.innerHTML = docLinkHtml;\n",
              "        element.appendChild(docLink);\n",
              "      }\n",
              "    </script>\n",
              "  </div>\n",
              "\n",
              "\n",
              "<div id=\"df-d826cbae-9be2-4c16-9c38-cdcd49d8d383\">\n",
              "  <button class=\"colab-df-quickchart\" onclick=\"quickchart('df-d826cbae-9be2-4c16-9c38-cdcd49d8d383')\"\n",
              "            title=\"Suggest charts\"\n",
              "            style=\"display:none;\">\n",
              "\n",
              "<svg xmlns=\"http://www.w3.org/2000/svg\" height=\"24px\"viewBox=\"0 0 24 24\"\n",
              "     width=\"24px\">\n",
              "    <g>\n",
              "        <path d=\"M19 3H5c-1.1 0-2 .9-2 2v14c0 1.1.9 2 2 2h14c1.1 0 2-.9 2-2V5c0-1.1-.9-2-2-2zM9 17H7v-7h2v7zm4 0h-2V7h2v10zm4 0h-2v-4h2v4z\"/>\n",
              "    </g>\n",
              "</svg>\n",
              "  </button>\n",
              "\n",
              "<style>\n",
              "  .colab-df-quickchart {\n",
              "      --bg-color: #E8F0FE;\n",
              "      --fill-color: #1967D2;\n",
              "      --hover-bg-color: #E2EBFA;\n",
              "      --hover-fill-color: #174EA6;\n",
              "      --disabled-fill-color: #AAA;\n",
              "      --disabled-bg-color: #DDD;\n",
              "  }\n",
              "\n",
              "  [theme=dark] .colab-df-quickchart {\n",
              "      --bg-color: #3B4455;\n",
              "      --fill-color: #D2E3FC;\n",
              "      --hover-bg-color: #434B5C;\n",
              "      --hover-fill-color: #FFFFFF;\n",
              "      --disabled-bg-color: #3B4455;\n",
              "      --disabled-fill-color: #666;\n",
              "  }\n",
              "\n",
              "  .colab-df-quickchart {\n",
              "    background-color: var(--bg-color);\n",
              "    border: none;\n",
              "    border-radius: 50%;\n",
              "    cursor: pointer;\n",
              "    display: none;\n",
              "    fill: var(--fill-color);\n",
              "    height: 32px;\n",
              "    padding: 0;\n",
              "    width: 32px;\n",
              "  }\n",
              "\n",
              "  .colab-df-quickchart:hover {\n",
              "    background-color: var(--hover-bg-color);\n",
              "    box-shadow: 0 1px 2px rgba(60, 64, 67, 0.3), 0 1px 3px 1px rgba(60, 64, 67, 0.15);\n",
              "    fill: var(--button-hover-fill-color);\n",
              "  }\n",
              "\n",
              "  .colab-df-quickchart-complete:disabled,\n",
              "  .colab-df-quickchart-complete:disabled:hover {\n",
              "    background-color: var(--disabled-bg-color);\n",
              "    fill: var(--disabled-fill-color);\n",
              "    box-shadow: none;\n",
              "  }\n",
              "\n",
              "  .colab-df-spinner {\n",
              "    border: 2px solid var(--fill-color);\n",
              "    border-color: transparent;\n",
              "    border-bottom-color: var(--fill-color);\n",
              "    animation:\n",
              "      spin 1s steps(1) infinite;\n",
              "  }\n",
              "\n",
              "  @keyframes spin {\n",
              "    0% {\n",
              "      border-color: transparent;\n",
              "      border-bottom-color: var(--fill-color);\n",
              "      border-left-color: var(--fill-color);\n",
              "    }\n",
              "    20% {\n",
              "      border-color: transparent;\n",
              "      border-left-color: var(--fill-color);\n",
              "      border-top-color: var(--fill-color);\n",
              "    }\n",
              "    30% {\n",
              "      border-color: transparent;\n",
              "      border-left-color: var(--fill-color);\n",
              "      border-top-color: var(--fill-color);\n",
              "      border-right-color: var(--fill-color);\n",
              "    }\n",
              "    40% {\n",
              "      border-color: transparent;\n",
              "      border-right-color: var(--fill-color);\n",
              "      border-top-color: var(--fill-color);\n",
              "    }\n",
              "    60% {\n",
              "      border-color: transparent;\n",
              "      border-right-color: var(--fill-color);\n",
              "    }\n",
              "    80% {\n",
              "      border-color: transparent;\n",
              "      border-right-color: var(--fill-color);\n",
              "      border-bottom-color: var(--fill-color);\n",
              "    }\n",
              "    90% {\n",
              "      border-color: transparent;\n",
              "      border-bottom-color: var(--fill-color);\n",
              "    }\n",
              "  }\n",
              "</style>\n",
              "\n",
              "  <script>\n",
              "    async function quickchart(key) {\n",
              "      const quickchartButtonEl =\n",
              "        document.querySelector('#' + key + ' button');\n",
              "      quickchartButtonEl.disabled = true;  // To prevent multiple clicks.\n",
              "      quickchartButtonEl.classList.add('colab-df-spinner');\n",
              "      try {\n",
              "        const charts = await google.colab.kernel.invokeFunction(\n",
              "            'suggestCharts', [key], {});\n",
              "      } catch (error) {\n",
              "        console.error('Error during call to suggestCharts:', error);\n",
              "      }\n",
              "      quickchartButtonEl.classList.remove('colab-df-spinner');\n",
              "      quickchartButtonEl.classList.add('colab-df-quickchart-complete');\n",
              "    }\n",
              "    (() => {\n",
              "      let quickchartButtonEl =\n",
              "        document.querySelector('#df-d826cbae-9be2-4c16-9c38-cdcd49d8d383 button');\n",
              "      quickchartButtonEl.style.display =\n",
              "        google.colab.kernel.accessAllowed ? 'block' : 'none';\n",
              "    })();\n",
              "  </script>\n",
              "</div>\n",
              "\n",
              "    </div>\n",
              "  </div>\n"
            ],
            "application/vnd.google.colaboratory.intrinsic+json": {
              "type": "dataframe",
              "summary": "{\n  \"name\": \"data\",\n  \"rows\": 2639,\n  \"fields\": [\n    {\n      \"column\": \"DESIGNATION\",\n      \"properties\": {\n        \"dtype\": \"boolean\",\n        \"num_unique_values\": 1,\n        \"samples\": [\n          false\n        ],\n        \"semantic_type\": \"\",\n        \"description\": \"\"\n      }\n    },\n    {\n      \"column\": \"UNIT\",\n      \"properties\": {\n        \"dtype\": \"boolean\",\n        \"num_unique_values\": 1,\n        \"samples\": [\n          false\n        ],\n        \"semantic_type\": \"\",\n        \"description\": \"\"\n      }\n    },\n    {\n      \"column\": \"RATINGS\",\n      \"properties\": {\n        \"dtype\": \"boolean\",\n        \"num_unique_values\": 2,\n        \"samples\": [\n          true\n        ],\n        \"semantic_type\": \"\",\n        \"description\": \"\"\n      }\n    },\n    {\n      \"column\": \"PAST EXP\",\n      \"properties\": {\n        \"dtype\": \"boolean\",\n        \"num_unique_values\": 1,\n        \"samples\": [\n          false\n        ],\n        \"semantic_type\": \"\",\n        \"description\": \"\"\n      }\n    },\n    {\n      \"column\": \"TENURE\",\n      \"properties\": {\n        \"dtype\": \"boolean\",\n        \"num_unique_values\": 2,\n        \"samples\": [\n          true\n        ],\n        \"semantic_type\": \"\",\n        \"description\": \"\"\n      }\n    },\n    {\n      \"column\": \"SALARY\",\n      \"properties\": {\n        \"dtype\": \"boolean\",\n        \"num_unique_values\": 1,\n        \"samples\": [\n          false\n        ],\n        \"semantic_type\": \"\",\n        \"description\": \"\"\n      }\n    }\n  ]\n}"
            }
          },
          "metadata": {},
          "execution_count": 17
        }
      ]
    },
    {
      "cell_type": "code",
      "source": [
        "data.dropna(inplace=True)\n",
        "data.to_csv('Salary Prediction of Data Professions.csv', index=False)"
      ],
      "metadata": {
        "id": "5SrofqpUVClg"
      },
      "execution_count": 18,
      "outputs": []
    },
    {
      "cell_type": "code",
      "source": [
        "missing_values = data.isna().sum()\n",
        "print(\"Number of missing values in each column:\")\n",
        "print(missing_values)\n",
        "\n",
        "total_missing_values = data.isna().sum().sum()\n",
        "print(f\"\\nTotal number of missing values in the dataset: {total_missing_values}\")"
      ],
      "metadata": {
        "colab": {
          "base_uri": "https://localhost:8080/"
        },
        "id": "2WCimMP9VGWa",
        "outputId": "ed92e40c-182a-40e9-a486-d80fbfbc264b"
      },
      "execution_count": 19,
      "outputs": [
        {
          "output_type": "stream",
          "name": "stdout",
          "text": [
            "Number of missing values in each column:\n",
            "DESIGNATION    0\n",
            "UNIT           0\n",
            "RATINGS        0\n",
            "PAST EXP       0\n",
            "TENURE         0\n",
            "SALARY         0\n",
            "dtype: int64\n",
            "\n",
            "Total number of missing values in the dataset: 0\n"
          ]
        }
      ]
    },
    {
      "cell_type": "code",
      "source": [
        "data.info()"
      ],
      "metadata": {
        "colab": {
          "base_uri": "https://localhost:8080/"
        },
        "id": "2PaBxk78VI7s",
        "outputId": "d64d8286-c6af-460a-d79d-2a414549ad02"
      },
      "execution_count": 20,
      "outputs": [
        {
          "output_type": "stream",
          "name": "stdout",
          "text": [
            "<class 'pandas.core.frame.DataFrame'>\n",
            "Index: 2637 entries, 0 to 2638\n",
            "Data columns (total 6 columns):\n",
            " #   Column       Non-Null Count  Dtype  \n",
            "---  ------       --------------  -----  \n",
            " 0   DESIGNATION  2637 non-null   object \n",
            " 1   UNIT         2637 non-null   object \n",
            " 2   RATINGS      2637 non-null   float64\n",
            " 3   PAST EXP     2637 non-null   int64  \n",
            " 4   TENURE       2637 non-null   float64\n",
            " 5   SALARY       2637 non-null   int64  \n",
            "dtypes: float64(2), int64(2), object(2)\n",
            "memory usage: 144.2+ KB\n"
          ]
        }
      ]
    },
    {
      "cell_type": "code",
      "source": [
        "correlation = data['PAST EXP'].corr(data['SALARY'])\n",
        "print(f\"Correlation between X and Y: {correlation}\")"
      ],
      "metadata": {
        "colab": {
          "base_uri": "https://localhost:8080/"
        },
        "id": "iYhObAT5VLvf",
        "outputId": "c936fd71-b3ca-4d8b-efad-58db5a4beffd"
      },
      "execution_count": 21,
      "outputs": [
        {
          "output_type": "stream",
          "name": "stdout",
          "text": [
            "Correlation between X and Y: 0.8543195200550031\n"
          ]
        }
      ]
    },
    {
      "cell_type": "code",
      "source": [
        "correlation = data['TENURE'].corr(data['SALARY'])\n",
        "print(f\"Correlation between X and Y: {correlation}\")"
      ],
      "metadata": {
        "colab": {
          "base_uri": "https://localhost:8080/"
        },
        "id": "-ggo_ArEVOdp",
        "outputId": "38fe9b80-c047-435a-dca1-7bee32726470"
      },
      "execution_count": 22,
      "outputs": [
        {
          "output_type": "stream",
          "name": "stdout",
          "text": [
            "Correlation between X and Y: 0.4371600112540408\n"
          ]
        }
      ]
    },
    {
      "cell_type": "code",
      "source": [
        "import seaborn as sns\n",
        "import matplotlib.pyplot as plt\n",
        "\n",
        "# Scatter plot\n",
        "plt.figure(figsize=(10, 6))\n",
        "sns.scatterplot(x=data['PAST EXP'], y=data['SALARY'])\n",
        "plt.title('Scatter Plot of PAST EXP vs SALARY')\n",
        "plt.xlabel('PAST EXP')\n",
        "plt.ylabel('SALARY')\n",
        "plt.show()\n",
        "\n",
        "# Heatmap of the correlation matrix\n",
        "correlation_matrix = data[['PAST EXP', 'SALARY']].corr()\n",
        "plt.figure(figsize=(8, 6))\n",
        "sns.heatmap(correlation_matrix, annot=True, cmap='coolwarm', vmin=-1, vmax=1)\n",
        "plt.title('Correlation Matrix Heatmap')\n",
        "plt.show()"
      ],
      "metadata": {
        "colab": {
          "base_uri": "https://localhost:8080/",
          "height": 1000
        },
        "id": "2n-25ODKVTDz",
        "outputId": "96748b1a-8dc6-41b4-f2a6-e527173d2aa7"
      },
      "execution_count": 23,
      "outputs": [
        {
          "output_type": "display_data",
          "data": {
            "text/plain": [
              "<Figure size 1000x600 with 1 Axes>"
            ],
            "image/png": "[encoded data removed]"
          },
          "metadata": {}
        },
        {
          "output_type": "display_data",
          "data": {
            "text/plain": [
              "<Figure size 800x600 with 2 Axes>"
            ],
            "image/png": "[encoded data removed]"
          },
          "metadata": {}
        }
      ]
    },
    {
      "cell_type": "code",
      "source": [
        "import seaborn as sns\n",
        "import matplotlib.pyplot as plt\n",
        "\n",
        "# Scatter plot\n",
        "plt.figure(figsize=(10, 6))\n",
        "sns.scatterplot(x=data['TENURE'], y=data['SALARY'])\n",
        "plt.title('Scatter Plot of PAST EXP vs SALARY')\n",
        "plt.xlabel('PAST EXP')\n",
        "plt.ylabel('SALARY')\n",
        "plt.show()\n",
        "\n",
        "# Heatmap of the correlation matrix\n",
        "correlation_matrix = data[['TENURE', 'SALARY']].corr()\n",
        "plt.figure(figsize=(8, 6))\n",
        "sns.heatmap(correlation_matrix, annot=True, cmap='coolwarm', vmin=-1, vmax=1)\n",
        "plt.title('Correlation Matrix Heatmap')\n",
        "plt.show()"
      ],
      "metadata": {
        "colab": {
          "base_uri": "https://localhost:8080/",
          "height": 1000
        },
        "id": "m5iAB4XeVV3y",
        "outputId": "c6118bd2-0d8e-4129-fd15-f4e07560d20a"
      },
      "execution_count": 24,
      "outputs": [
        {
          "output_type": "display_data",
          "data": {
            "text/plain": [
              "<Figure size 1000x600 with 1 Axes>"
            ],
            "image/png": "[encoded data removed]"
          },
          "metadata": {}
        },
        {
          "output_type": "display_data",
          "data": {
            "text/plain": [
              "<Figure size 800x600 with 2 Axes>"
            ],
            "image/png": "[encoded data removed]"
          },
          "metadata": {}
        }
      ]
    },
    {
      "cell_type": "code",
      "source": [
        "X = data.drop('SALARY', axis=1)\n",
        "Y = data['SALARY']"
      ],
      "metadata": {
        "id": "xYBLo5duVgSx"
      },
      "execution_count": 25,
      "outputs": []
    },
    {
      "cell_type": "code",
      "source": [
        "print(X)"
      ],
      "metadata": {
        "colab": {
          "base_uri": "https://localhost:8080/"
        },
        "id": "uqeQ4vXyVk1w",
        "outputId": "6d8c9f39-a950-4872-cfee-23e0c2368368"
      },
      "execution_count": 26,
      "outputs": [
        {
          "output_type": "stream",
          "name": "stdout",
          "text": [
            "         DESIGNATION        UNIT  RATINGS  PAST EXP    TENURE\n",
            "0            Analyst     Finance      2.0         0  1.641096\n",
            "2            Analyst     Finance      3.0         0  1.446575\n",
            "3            Analyst          IT      3.0         0  2.764384\n",
            "5            Analyst   Marketing      4.0         0  2.882192\n",
            "6            Analyst   Marketing      5.0         0  2.347945\n",
            "...              ...         ...      ...       ...       ...\n",
            "2634  Senior Manager  Management      5.0        10  4.531507\n",
            "2635         Analyst          IT      2.0         0  1.980822\n",
            "2636         Analyst         Web      5.0         0  1.956164\n",
            "2637         Analyst         Web      3.0         1  1.810959\n",
            "2638         Analyst   Marketing      2.0         2  1.304110\n",
            "\n",
            "[2637 rows x 5 columns]\n"
          ]
        }
      ]
    },
    {
      "cell_type": "code",
      "source": [
        "from sklearn.compose import ColumnTransformer\n",
        "from sklearn.preprocessing import OneHotEncoder\n",
        "\n",
        "ct = ColumnTransformer(\n",
        "    transformers=[('encoder', OneHotEncoder(), [0, 1])],\n",
        "    remainder='passthrough'\n",
        ")\n",
        "\n",
        "X = np.array(ct.fit_transform(X))"
      ],
      "metadata": {
        "id": "igKbULnJVn3g"
      },
      "execution_count": 27,
      "outputs": []
    },
    {
      "cell_type": "code",
      "source": [
        "print(X[:10])"
      ],
      "metadata": {
        "colab": {
          "base_uri": "https://localhost:8080/"
        },
        "id": "gbZe4d54VsXn",
        "outputId": "95d7b45e-f999-4833-d340-510e58cb03a9"
      },
      "execution_count": 28,
      "outputs": [
        {
          "output_type": "stream",
          "name": "stdout",
          "text": [
            "[[1.         0.         0.         0.         0.         0.\n",
            "  1.         0.         0.         0.         0.         0.\n",
            "  2.         0.         1.64109589]\n",
            " [1.         0.         0.         0.         0.         0.\n",
            "  1.         0.         0.         0.         0.         0.\n",
            "  3.         0.         1.44657534]\n",
            " [1.         0.         0.         0.         0.         0.\n",
            "  0.         1.         0.         0.         0.         0.\n",
            "  3.         0.         2.76438356]\n",
            " [1.         0.         0.         0.         0.         0.\n",
            "  0.         0.         0.         1.         0.         0.\n",
            "  4.         0.         2.88219178]\n",
            " [1.         0.         0.         0.         0.         0.\n",
            "  0.         0.         0.         1.         0.         0.\n",
            "  5.         0.         2.34794521]\n",
            " [1.         0.         0.         0.         0.         0.\n",
            "  0.         0.         0.         1.         0.         0.\n",
            "  2.         2.         2.09041096]\n",
            " [0.         0.         0.         0.         1.         0.\n",
            "  0.         0.         0.         0.         1.         0.\n",
            "  3.         1.         1.5260274 ]\n",
            " [1.         0.         0.         0.         0.         0.\n",
            "  1.         0.         0.         0.         0.         0.\n",
            "  3.         0.         1.15616438]\n",
            " [1.         0.         0.         0.         0.         0.\n",
            "  0.         0.         0.         1.         0.         0.\n",
            "  4.         1.         1.83013699]\n",
            " [0.         0.         0.         0.         0.         1.\n",
            "  1.         0.         0.         0.         0.         0.\n",
            "  2.         9.         5.93424658]]\n"
          ]
        }
      ]
    },
    {
      "cell_type": "code",
      "source": [
        "from sklearn.model_selection import train_test_split\n",
        "X_train,X_test,Y_train,Y_test=train_test_split(X,Y, test_size=0.2, random_state=0)"
      ],
      "metadata": {
        "id": "3hxg8X3sVv3e"
      },
      "execution_count": 29,
      "outputs": []
    },
    {
      "cell_type": "code",
      "source": [
        "print(X_train.shape)"
      ],
      "metadata": {
        "colab": {
          "base_uri": "https://localhost:8080/"
        },
        "id": "vofuONerV0lq",
        "outputId": "5af44d3d-595c-48eb-84f1-ef1b91f2b176"
      },
      "execution_count": 30,
      "outputs": [
        {
          "output_type": "stream",
          "name": "stdout",
          "text": [
            "(2109, 15)\n"
          ]
        }
      ]
    },
    {
      "cell_type": "code",
      "source": [
        "print(X_train[:10])"
      ],
      "metadata": {
        "colab": {
          "base_uri": "https://localhost:8080/"
        },
        "id": "KccqGZhNV2c9",
        "outputId": "ea5be200-c837-4c73-be5c-d98bc421d40d"
      },
      "execution_count": 31,
      "outputs": [
        {
          "output_type": "stream",
          "name": "stdout",
          "text": [
            "[[1.         0.         0.         0.         0.         0.\n",
            "  0.         0.         0.         0.         1.         0.\n",
            "  4.         2.         1.32876712]\n",
            " [0.         1.         0.         0.         0.         0.\n",
            "  0.         1.         0.         0.         0.         0.\n",
            "  4.         6.         1.24109589]\n",
            " [1.         0.         0.         0.         0.         0.\n",
            "  0.         0.         0.         1.         0.         0.\n",
            "  4.         0.         1.75342466]\n",
            " [0.         0.         0.         1.         0.         0.\n",
            "  0.         0.         0.         1.         0.         0.\n",
            "  4.         7.         3.04109589]\n",
            " [0.         0.         0.         0.         1.         0.\n",
            "  0.         0.         0.         1.         0.         0.\n",
            "  5.         0.         2.78356164]\n",
            " [0.         0.         0.         0.         1.         0.\n",
            "  0.         0.         1.         0.         0.         0.\n",
            "  5.         0.         2.61643836]\n",
            " [0.         0.         0.         0.         1.         0.\n",
            "  0.         0.         0.         1.         0.         0.\n",
            "  3.         0.         1.65205479]\n",
            " [0.         0.         0.         0.         1.         0.\n",
            "  0.         0.         0.         0.         0.         1.\n",
            "  5.         0.         3.85479452]\n",
            " [1.         0.         0.         0.         0.         0.\n",
            "  0.         0.         0.         0.         1.         0.\n",
            "  2.         1.         2.90410959]\n",
            " [1.         0.         0.         0.         0.         0.\n",
            "  0.         0.         0.         1.         0.         0.\n",
            "  3.         0.         2.75068493]]\n"
          ]
        }
      ]
    },
    {
      "cell_type": "code",
      "source": [
        "print(X_test)"
      ],
      "metadata": {
        "colab": {
          "base_uri": "https://localhost:8080/"
        },
        "id": "GTWqZegAV4ho",
        "outputId": "02ed813d-23fd-45a0-e3fb-e218676d35d9"
      },
      "execution_count": 32,
      "outputs": [
        {
          "output_type": "stream",
          "name": "stdout",
          "text": [
            "[[ 1.          0.          0.         ...  2.          1.\n",
            "   2.60547945]\n",
            " [ 0.          0.          1.         ...  3.         13.\n",
            "   3.06575342]\n",
            " [ 1.          0.          0.         ...  3.          0.\n",
            "   2.72328767]\n",
            " ...\n",
            " [ 1.          0.          0.         ...  3.          0.\n",
            "   2.83835616]\n",
            " [ 1.          0.          0.         ...  3.          1.\n",
            "   1.23013699]\n",
            " [ 1.          0.          0.         ...  5.          1.\n",
            "   1.89315068]]\n"
          ]
        }
      ]
    },
    {
      "cell_type": "code",
      "source": [
        "print(Y_train)"
      ],
      "metadata": {
        "colab": {
          "base_uri": "https://localhost:8080/"
        },
        "id": "JieKGki_V7v_",
        "outputId": "9ff8b5de-6c3c-4ecf-e038-a54b16dc78d3"
      },
      "execution_count": 33,
      "outputs": [
        {
          "output_type": "stream",
          "name": "stdout",
          "text": [
            "2507     49567\n",
            "2442     88400\n",
            "1542     43393\n",
            "2561    139804\n",
            "1848     51423\n",
            "         ...  \n",
            "1733     40600\n",
            "765      41785\n",
            "837      43605\n",
            "1655     44472\n",
            "2609     43228\n",
            "Name: SALARY, Length: 2109, dtype: int64\n"
          ]
        }
      ]
    },
    {
      "cell_type": "code",
      "source": [
        "print(Y_test)"
      ],
      "metadata": {
        "colab": {
          "base_uri": "https://localhost:8080/"
        },
        "id": "H8fI7fSBWExG",
        "outputId": "4a08e55c-8761-4b76-9866-3f0ffe4c236c"
      },
      "execution_count": 34,
      "outputs": [
        {
          "output_type": "stream",
          "name": "stdout",
          "text": [
            "2319     42735\n",
            "1710    366063\n",
            "1676     46064\n",
            "1334     73718\n",
            "2574     43534\n",
            "         ...  \n",
            "2533     47301\n",
            "41      175497\n",
            "706      49530\n",
            "2329     41951\n",
            "2158     42052\n",
            "Name: SALARY, Length: 528, dtype: int64\n"
          ]
        }
      ]
    },
    {
      "cell_type": "code",
      "source": [
        "from sklearn.preprocessing import StandardScaler\n",
        "sc = StandardScaler()\n",
        "X_train[:, -3:] = sc.fit_transform(X_train[:, -3:])\n",
        "X_test[:, -3:] = sc.transform(X_test[:, -3:])"
      ],
      "metadata": {
        "id": "wzJ1gFpNWHZB"
      },
      "execution_count": 35,
      "outputs": []
    },
    {
      "cell_type": "code",
      "source": [
        "print(X_train[:10])"
      ],
      "metadata": {
        "colab": {
          "base_uri": "https://localhost:8080/"
        },
        "id": "uPM9DfvwWL1h",
        "outputId": "72bcc7b4-8f78-40db-f3c6-1be629dfb863"
      },
      "execution_count": 36,
      "outputs": [
        {
          "output_type": "stream",
          "name": "stdout",
          "text": [
            "[[ 1.          0.          0.          0.          0.          0.\n",
            "   0.          0.          0.          0.          1.          0.\n",
            "   0.4578294   0.16764148 -0.95765009]\n",
            " [ 0.          1.          0.          0.          0.          0.\n",
            "   0.          1.          0.          0.          0.          0.\n",
            "   0.4578294   1.64079101 -1.05570758]\n",
            " [ 1.          0.          0.          0.          0.          0.\n",
            "   0.          0.          0.          1.          0.          0.\n",
            "   0.4578294  -0.56893328 -0.48268411]\n",
            " [ 0.          0.          0.          1.          0.          0.\n",
            "   0.          0.          0.          1.          0.          0.\n",
            "   0.4578294   2.00907839  0.9575353 ]\n",
            " [ 0.          0.          0.          0.          1.          0.\n",
            "   0.          0.          0.          1.          0.          0.\n",
            "   1.35519204 -0.56893328  0.66949142]\n",
            " [ 0.          0.          0.          0.          1.          0.\n",
            "   0.          0.          1.          0.          0.          0.\n",
            "   1.35519204 -0.56893328  0.48256933]\n",
            " [ 0.          0.          0.          0.          1.          0.\n",
            "   0.          0.          0.          1.          0.          0.\n",
            "  -0.43953324 -0.56893328 -0.59606309]\n",
            " [ 0.          0.          0.          0.          1.          0.\n",
            "   0.          0.          0.          0.          0.          1.\n",
            "   1.35519204 -0.56893328  1.8676314 ]\n",
            " [ 1.          0.          0.          0.          0.          0.\n",
            "   0.          0.          0.          0.          1.          0.\n",
            "  -1.33689588 -0.2006459   0.80432047]\n",
            " [ 1.          0.          0.          0.          0.          0.\n",
            "   0.          0.          0.          1.          0.          0.\n",
            "  -0.43953324 -0.56893328  0.63271986]]\n"
          ]
        }
      ]
    },
    {
      "cell_type": "code",
      "source": [
        "print(X_train[:10])"
      ],
      "metadata": {
        "colab": {
          "base_uri": "https://localhost:8080/"
        },
        "id": "0mLOtHaoWOQT",
        "outputId": "07d745d1-7f53-44e0-9c6b-399abffafb45"
      },
      "execution_count": 37,
      "outputs": [
        {
          "output_type": "stream",
          "name": "stdout",
          "text": [
            "[[ 1.          0.          0.          0.          0.          0.\n",
            "   0.          0.          0.          0.          1.          0.\n",
            "   0.4578294   0.16764148 -0.95765009]\n",
            " [ 0.          1.          0.          0.          0.          0.\n",
            "   0.          1.          0.          0.          0.          0.\n",
            "   0.4578294   1.64079101 -1.05570758]\n",
            " [ 1.          0.          0.          0.          0.          0.\n",
            "   0.          0.          0.          1.          0.          0.\n",
            "   0.4578294  -0.56893328 -0.48268411]\n",
            " [ 0.          0.          0.          1.          0.          0.\n",
            "   0.          0.          0.          1.          0.          0.\n",
            "   0.4578294   2.00907839  0.9575353 ]\n",
            " [ 0.          0.          0.          0.          1.          0.\n",
            "   0.          0.          0.          1.          0.          0.\n",
            "   1.35519204 -0.56893328  0.66949142]\n",
            " [ 0.          0.          0.          0.          1.          0.\n",
            "   0.          0.          1.          0.          0.          0.\n",
            "   1.35519204 -0.56893328  0.48256933]\n",
            " [ 0.          0.          0.          0.          1.          0.\n",
            "   0.          0.          0.          1.          0.          0.\n",
            "  -0.43953324 -0.56893328 -0.59606309]\n",
            " [ 0.          0.          0.          0.          1.          0.\n",
            "   0.          0.          0.          0.          0.          1.\n",
            "   1.35519204 -0.56893328  1.8676314 ]\n",
            " [ 1.          0.          0.          0.          0.          0.\n",
            "   0.          0.          0.          0.          1.          0.\n",
            "  -1.33689588 -0.2006459   0.80432047]\n",
            " [ 1.          0.          0.          0.          0.          0.\n",
            "   0.          0.          0.          1.          0.          0.\n",
            "  -0.43953324 -0.56893328  0.63271986]]\n"
          ]
        }
      ]
    },
    {
      "cell_type": "code",
      "source": [
        "print(X_test)"
      ],
      "metadata": {
        "colab": {
          "base_uri": "https://localhost:8080/"
        },
        "id": "FLckhZZuWRor",
        "outputId": "350c4e6c-c6da-4d39-f8b1-74d31924a84b"
      },
      "execution_count": 38,
      "outputs": [
        {
          "output_type": "stream",
          "name": "stdout",
          "text": [
            "[[ 1.          0.          0.         ... -1.33689588 -0.2006459\n",
            "   0.47031214]\n",
            " [ 0.          0.          1.         ... -0.43953324  4.21880268\n",
            "   0.98511397]\n",
            " [ 1.          0.          0.         ... -0.43953324 -0.56893328\n",
            "   0.6020769 ]\n",
            " ...\n",
            " [ 1.          0.          0.         ... -0.43953324 -0.56893328\n",
            "   0.73077735]\n",
            " [ 1.          0.          0.         ... -0.43953324 -0.2006459\n",
            "  -1.06796477]\n",
            " [ 1.          0.          0.         ...  1.35519204 -0.2006459\n",
            "  -0.32640498]]\n"
          ]
        }
      ]
    },
    {
      "cell_type": "code",
      "source": [
        "  # Import necessary libraries\n",
        "import numpy as np\n",
        "from sklearn.linear_model import LinearRegression\n",
        "\n",
        "# Create a linear regression model\n",
        "lr_model = LinearRegression()\n",
        "\n",
        "# Train the model with the training data\n",
        "lr_model.fit(X_train, Y_train)\n",
        "\n",
        "Y_predlr = lr_model.predict(X_test)\n",
        "print(Y_predlr)"
      ],
      "metadata": {
        "colab": {
          "base_uri": "https://localhost:8080/"
        },
        "id": "ZBA3AlbLWTx-",
        "outputId": "45f29236-7908-41a4-9c08-4fbc9122f527"
      },
      "execution_count": 39,
      "outputs": [
        {
          "output_type": "stream",
          "name": "stdout",
          "text": [
            "[ 44896. 288512.  45536.  88224.  45248.  44928.  44640.  44576. 127104.\n",
            "  45280. 127168.  61152.  59808.  44448.  45440. 180256.  44800.  59520.\n",
            "  44832.  44256.  45888.  60288.  45504.  45088.  44928.  44896.  45760.\n",
            "  44288.  44704.  45504.  45088.  44608.  45312.  44800.  45216.  86944.\n",
            "  45184.  45216.  45664.  43968.  59936.  44256.  45280.  60320.  44800.\n",
            "  45280.  45152.  45088.  45632.  44864.  46080. 290560.  45088.  45120.\n",
            "  44064.  45312.  88096.  44736.  44672.  44960.  44384.  45120.  44896.\n",
            " 125120.  44864.  58912. 180416.  45376.  59808.  59936.  60512. 125664.\n",
            "  46080.  45248.  45184.  44704.  44160.  44864.  60928.  45152.  45312.\n",
            "  44416. 180928.  59584.  60192.  44768.  44448.  45024.  45600.  45504.\n",
            "  45472.  44480.  45376.  44352.  44640.  58848.  45248.  44576.  45504.\n",
            "  45888.  59136.  59648.  44800.  45888.  60000.  44864.  44192.  60544.\n",
            "  44160.  44992. 126592.  44416.  44800.  44288. 181920.  45216.  45184.\n",
            "  59872.  45152. 178880.  60352.  45536.  59808.  44992.  45600.  44736.\n",
            "  44704.  44352.  45504.  86528.  44576.  44864.  86720.  44224.  44608.\n",
            "  45600.  46048.  45120.  45440.  45664. 178240. 179552.  44576.  59456.\n",
            "  45504.  45344.  86656.  86624.  45248.  45664.  44736.  45120.  44768.\n",
            "  59680.  44896.  45216.  45760. 291712.  44800.  44512.  44320.  45536.\n",
            "  60416.  45824.  88576.  44960.  86848.  46144.  45344.  44384.  45600.\n",
            "  45088.  45152.  44864.  45408. 181472.  45248.  60096.  46368.  45472.\n",
            "  45152.  44736.  45088.  45184.  45088.  58656.  60416.  58880.  44800.\n",
            "  44960.  87040.  46304.  45280. 126272.  44832.  44928.  44704. 179552.\n",
            "  45024.  59712.  45504.  44768.  44800.  44672. 124992.  59488.  44928.\n",
            "  44384. 178912.  45056.  45184.  44512.  44992.  44896.  46208.  44512.\n",
            "  44544.  45088.  44928.  59648.  45600.  44032.  45152.  44992.  45440.\n",
            "  45600.  44512.  61344.  44480.  45440.  60640.  44800.  44832.  60576.\n",
            "  44576.  59776.  59744.  44864.  45280.  45088.  45280.  45312.  44672.\n",
            "  45408.  45056.  46240. 179232. 126560.  88064.  45120.  44896.  44384.\n",
            "  44448.  58752.  44704.  45120.  44992.  45440.  45824.  44864.  44640.\n",
            "  44192.  44992.  60608.  88096.  44352.  44480.  45312.  44928.  44992.\n",
            "  45152.  44128.  45120.  59872.  45792.  87904. 126848.  45344. 126048.\n",
            "  45184.  44288.  45888.  44928.  87808.  44896.  45568.  44704.  87840.\n",
            "  87168.  44576.  46176.  45856.  44896.  45504.  45088.  44896.  44672.\n",
            "  45088.  44544.  45600.  88608.  44416.  60160.  44416.  44352.  59808.\n",
            "  45280.  45344.  86656.  45088.  44352.  45568. 126048.  45120.  86464.\n",
            "  45344.  44928.  44704.  44832.  44352.  44576. 126784.  44640.  59456.\n",
            "  60352.  44928.  44896.  45344.  86624.  59648.  44288.  45312.  45248.\n",
            "  59488. 125728.  60256.  45184.  87392.  44384.  44352.  44352.  45280.\n",
            "  45248.  44576.  59648.  44512.  59456.  45184.  88096.  45024.  45088.\n",
            "  44896.  45152.  44896.  45312.  45280.  44832.  87776. 125632.  44608.\n",
            "  60160.  60000.  44896.  45184.  44864.  45312.  44352.  45088.  44512.\n",
            "  44640.  45376.  87584. 289472.  59712.  45440. 178976.  44192.  60704.\n",
            "  44928.  44512.  44576.  45312.  44608.  45376.  44576.  60128.  44928.\n",
            "  60096.  44960.  45344.  44416.  44512.  44960. 178848.  45664.  59552.\n",
            "  44480.  44896.  45248.  44992.  87488.  44480.  44256.  44544.  45344.\n",
            "  88800.  44608.  45312.  45856.  44992.  45664.  45248.  60640.  44672.\n",
            "  44928.  45376.  44576.  44736.  45024.  86208. 126144.  44576. 289824.\n",
            "  44928.  44928.  45632.  44704.  44544.  44256. 290016.  45568.  44416.\n",
            "  59584.  60160.  45216.  45472.  59008. 124896.  44448.  44800.  44512.\n",
            " 125696.  45248.  87424.  45248.  44896.  60192.  44800.  87776.  45056.\n",
            "  45024.  45024.  44832.  88224.  44512.  44672.  44896.  44128.  89312.\n",
            "  45440.  44864.  45408.  44800.  45440.  45376.  44768.  45056.  59872.\n",
            "  46112.  44160.  45472.  44576. 125376.  44672.  44768.  44608.  45120.\n",
            "  45472.  44640.  44448.  45440.  61376.  59776.  59840.  45504.  44416.\n",
            "  44704. 178656. 180704.  45024.  44800.  45216.  45056.  44160.  45664.\n",
            "  44640.  45536.  45568.  59968.  86336.  45600.  46144.  45792.  45056.\n",
            "  44800.  45344.  45216.  44736.  87136.  46112.  45184.  45536.  44896.\n",
            " 179456.  44928.  45696.  45248.  45568.  86048.  61088.  59040.  46176.\n",
            "  44800.  45056. 180288.  45600.  44480.  45056.]\n"
          ]
        }
      ]
    },
    {
      "cell_type": "code",
      "source": [
        "print(Y_predlr[:10])"
      ],
      "metadata": {
        "colab": {
          "base_uri": "https://localhost:8080/"
        },
        "id": "iLVoqerXWXal",
        "outputId": "85ccd841-698d-4753-d9c3-25196c5843e7"
      },
      "execution_count": 40,
      "outputs": [
        {
          "output_type": "stream",
          "name": "stdout",
          "text": [
            "[ 44896. 288512.  45536.  88224.  45248.  44928.  44640.  44576. 127104.\n",
            "  45280.]\n"
          ]
        }
      ]
    },
    {
      "cell_type": "code",
      "source": [
        "from sklearn.metrics import mean_absolute_error, mean_squared_error, r2_score\n",
        "print(f\"Model: Linear Regression\")\n",
        "print(f\"Mean Absolute Error (MAE): {mean_absolute_error(Y_test, Y_predlr)}\")\n",
        "print(f\"Mean Squared Error (MSE): {mean_squared_error(Y_test, Y_predlr)}\")\n",
        "print(f\"Root Mean Squared Error (RMSE): {np.sqrt(mean_squared_error(Y_test,Y_predlr))}\")\n",
        "print(f\"R-squared (R2) Score: {r2_score(Y_test, Y_predlr)}\\n\")"
      ],
      "metadata": {
        "colab": {
          "base_uri": "https://localhost:8080/"
        },
        "id": "8FKXZ6BHWbPA",
        "outputId": "765b04dd-fe0d-4887-fdb0-cdc6a412a970"
      },
      "execution_count": 41,
      "outputs": [
        {
          "output_type": "stream",
          "name": "stdout",
          "text": [
            "Model: Linear Regression\n",
            "Mean Absolute Error (MAE): 4578.899621212121\n",
            "Mean Squared Error (MSE): 78607865.44886364\n",
            "Root Mean Squared Error (RMSE): 8866.107683130385\n",
            "R-squared (R2) Score: 0.9426677379257633\n",
            "\n"
          ]
        }
      ]
    },
    {
      "cell_type": "code",
      "source": [
        "import numpy as np\n",
        "from sklearn.tree import DecisionTreeRegressor\n",
        "\n",
        "dtr_model = DecisionTreeRegressor()\n",
        "\n",
        "dtr_model.fit(X_train, Y_train)\n",
        "\n",
        "Y_preddtr = dtr_model.predict(X_test)\n",
        "print(Y_preddtr)"
      ],
      "metadata": {
        "colab": {
          "base_uri": "https://localhost:8080/"
        },
        "id": "DceOMK5AWdXE",
        "outputId": "05bb9b1a-3fdf-45e3-8450-03a457809b03"
      },
      "execution_count": 42,
      "outputs": [
        {
          "output_type": "stream",
          "name": "stdout",
          "text": [
            "[ 42735.  368887.   44100.   96909.   40085.   46612.   40669.   49466.\n",
            " 129305.   43483.  120184.   66244.   51423.   44344.   41320.  176158.\n",
            "  48751.   57783.   49878.   42837.   41142.   58566.   40013.   41045.\n",
            "  40214.   48996.   49617.   44469.   48773.   42473.   47297.   44223.\n",
            "  41955.   42303.   41045.   72237.   48185.   45152.   47843.   43113.\n",
            "  54166.   49492.   48182.   59675.   48572.   45193.   42455.   49611.\n",
            "  48355.   42662.   41705.  294564.   44620.   47308.   48939.   45589.\n",
            "  81901.   47832.   41853.   47499.   43315.   41445.   49968.  140867.\n",
            "  43307.   60522.  153769.   40998.   53339.   61575.   52071.  139804.\n",
            "  46078.   45036.   47877.   46351.   43959.   44838.   64913.   46350.\n",
            "  45538.   47183.  185977.   53406.   53218.   45298.   44681.   45579.\n",
            "  48389.   43417.   42897.   44125.   43282.   48722.   46612.   69223.\n",
            "  42143.   41287.   42306.   46071.   60827.   50368.   44812.   48887.\n",
            "  60159.   40318.   48426.   54749.   49497.   45156.  124711.   42645.\n",
            "  42720.   47904.  185977.   44145.   45351.   54475.   41262.  187426.\n",
            "  64232.   42797.   53390.   47764.   45861.   40060.   42720.   40414.\n",
            "  45039.   93659.   44555.   41265.   78615.   45002.   46612.   45830.\n",
            "  41705.   41445.   49633.   48777.  161799.  181470.   44730.   66311.\n",
            "  40381.   46772.   84840.   93854.   46152.   48839.   42041.   47781.\n",
            "  45875.   57923.   45225.   45193.   41743.  294564.   49744.   40180.\n",
            "  41430.   44359.   64913.   43601.   97879.   42943.   97946.   47899.\n",
            "  48969.   45128.   45083.   42987.   40329.   48996.   46038.  176567.\n",
            "  44694.   66184.   48104.   46295.   45128.   41225.   48777.   49380.\n",
            "  41734.   54184.   52739.   53406.   47734.   49631.   97946.   45957.\n",
            "  48482.  144332.   47376.   48618.   47939.  182134.   41546.   65316.\n",
            "  48355.   42465.   40808.   41853.  129647.   67051.   49617.   42897.\n",
            " 158394.   42132.   47877.   48651.   46261.   43539.   43201.   48067.\n",
            "  45025.   42455.   49183.   59481.   45597.   46509.   44145.   46350.\n",
            "  49081.   48271.   40411.   69306.   48939.   42056.   52083.   44850.\n",
            "  46741.   62243.   48283.   51423.   57046.   45225.   41955.   44599.\n",
            "  40340.   42143.   44561.   46597.   48511.   48366.  187426.  129305.\n",
            "  95056.   44163.   48996.   49395.   40065.   61311.   44448.   47033.\n",
            "  42819.   42840.   41627.   47590.   48751.   49730.   46043.   60707.\n",
            "  99416.   49592.   47571.   45550.   42793.   41691.   48455.   41653.\n",
            "  41920.   57923.   49296.   93212.  140916.   41500.  138026.   45193.\n",
            "  45389.   47750.   40707.   81901.   42793.   46779.   41550.   89791.\n",
            "  88029.   49395.   42400.   41142.   41353.   40411.   41920.   42735.\n",
            "  40357.   48934.   42388.   48497.   74929.   45083.   52324.   46783.\n",
            "  42897.   67458.   41691.   48268.   80367.   46418.   42255.   40411.\n",
            " 117726.   44163.   93659.   42962.   40787.   44561.   47061.   48272.\n",
            "  43835.  120184.   49631.   60155.   59675.   45228.5  48602.   40998.\n",
            "  88029.   52355.   40985.   45228.5  45538.   52224.  120988.   66184.\n",
            "  48047.   93529.   40384.   47904.   40524.   40975.   42143.   42144.\n",
            "  52355.   41516.   52224.   49418.   78274.   40363.   43748.   48996.\n",
            "  43748.   43096.   45550.   45528.   43418.   83947.  140867.   43920.\n",
            "  51509.   59111.   46074.   42102.   41265.   40961.   41287.   46173.\n",
            "  46217.   47649.   48451.   90346.  225412.   59121.   46591.  187426.\n",
            "  47590.   67796.   46326.   48877.   48877.   46693.   43393.   44163.\n",
            "  49928.   60307.   40335.   59124.   41926.   46896.   49592.   41455.\n",
            "  47326.  178590.   45370.   54987.   41257.   46580.   44069.   46723.\n",
            "  96378.   48067.   44469.   43051.   41008.   96909.   43902.   48823.\n",
            "  47849.   41357.   47178.   41988.   61353.   40113.   45856.   42280.\n",
            "  41194.   42805.   40357.   88029.  140916.   46349.  213987.   46127.\n",
            "  43671.   48476.   42240.   40570.   47691.  313649.   40013.   47104.\n",
            "  54475.   53218.   48948.   48389.   50084.  142291.   47343.   49968.\n",
            "  45223.  106755.   41743.   80367.   45896.   42472.   69329.   43096.\n",
            "  96378.   43748.   42410.   45739.   40318.   77015.   44214.   44799.\n",
            "  40318.   48436.   81319.   42306.   47734.   48681.   49662.   48777.\n",
            "  42121.   47038.5  46418.   59115.   44699.   45704.   42473.   48447.\n",
            " 140867.   40357.   41550.   40095.   42830.   49611.   48546.   45057.\n",
            "  49624.   69306.   60125.   50605.   44359.   48067.   43007.  197900.\n",
            " 181470.   46723.   40270.   49826.   44163.   41109.   44323.   43110.\n",
            "  40113.   40411.   54689.   93659.   44220.   42853.   48792.   45579.\n",
            "  46752.   45131.   41936.   44561.   87011.   40436.   45447.   41159.\n",
            "  45645.  181470.   42466.   45830.   47336.   49492.   88029.   54573.\n",
            "  69301.   44787.   48996.   45573.  161839.   48777.   49395.   40363. ]\n"
          ]
        }
      ]
    },
    {
      "cell_type": "code",
      "source": [
        "from sklearn.metrics import mean_absolute_error, mean_squared_error, r2_score\n",
        "print(f\"Model: DecisionTreeRegressor\")\n",
        "print(f\"Mean Absolute Error (MAE): {mean_absolute_error(Y_test, Y_preddtr)}\")\n",
        "print(f\"Mean Squared Error (MSE): {mean_squared_error(Y_test, Y_preddtr)}\")\n",
        "print(f\"Root Mean Squared Error (RMSE): {np.sqrt(mean_squared_error(Y_test,Y_preddtr))}\")\n",
        "print(f\"R-squared (R2) Score: {r2_score(Y_test, Y_preddtr)}\\n\")"
      ],
      "metadata": {
        "colab": {
          "base_uri": "https://localhost:8080/"
        },
        "id": "l5kXXoehWgKz",
        "outputId": "b83471dc-cbeb-43ad-850c-8407a54c90d2"
      },
      "execution_count": 43,
      "outputs": [
        {
          "output_type": "stream",
          "name": "stdout",
          "text": [
            "Model: DecisionTreeRegressor\n",
            "Mean Absolute Error (MAE): 5377.351325757576\n",
            "Mean Squared Error (MSE): 86599537.07149622\n",
            "Root Mean Squared Error (RMSE): 9305.887226454886\n",
            "R-squared (R2) Score: 0.9368390513272438\n",
            "\n"
          ]
        }
      ]
    },
    {
      "cell_type": "code",
      "source": [
        "import numpy as np\n",
        "from sklearn.ensemble import RandomForestRegressor\n",
        "\n",
        "rf_model = RandomForestRegressor()\n",
        "\n",
        "rf_model.fit(X_train, Y_train)\n",
        "\n",
        "Y_predrf = rf_model.predict(X_test)\n",
        "print(Y_predrf)"
      ],
      "metadata": {
        "colab": {
          "base_uri": "https://localhost:8080/"
        },
        "id": "KqYFZm1wWjU5",
        "outputId": "739b5edc-b43c-41b4-e3a2-00d11136fc01"
      },
      "execution_count": 44,
      "outputs": [
        {
          "output_type": "stream",
          "name": "stdout",
          "text": [
            "[ 44383.9295     317517.95        43180.84        86455.87\n",
            "  42000.07        44517.15333333  43760.09        47246.78\n",
            " 128621.34        44543.85866667 124408.41        64178.55\n",
            "  56495.93        44558.84        42885.35       175970.79\n",
            "  46167.9525      61311.45        45580.31        43279.67\n",
            "  44334.28        59284.4         43247.76333333  42531.92\n",
            "  44666.42        46286.77        44995.60266667  43334.48\n",
            "  44555.732       44948.96        45906.61        44357.16\n",
            "  42580.88        43984.74        42629.074       83715.34\n",
            "  46987.31        44879.53        46222.91        45122.79\n",
            "  60805.59        46341.62        45661.85        60246.12\n",
            "  46672.11233333  45364.59        43563.24333333  46491.98\n",
            "  46583.73        44101.72        45130.816      304845.39\n",
            "  43008.12666667  44033.24        47386.55        45594.98\n",
            "  83488.93        44820.76        42989.48        46430.338\n",
            "  44378.81        42623.21166667  44945.03       132879.02\n",
            "  42960.19666667  59523.34       174359.15        43660.8\n",
            "  58161.44        61602.79        56936.29       122889.28\n",
            "  45772.23        44617.98        45125.95        43317.05\n",
            "  43749.73        44349.63666667  62569.59        45391.45\n",
            "  46670.66        46517.32       190304.71        59990.97\n",
            "  57059.71        44461.43333333  44645.12        45742.24\n",
            "  47112.24        45760.7775      44749.52        44680.8\n",
            "  42948.78        46606.47        45213.50833333  62515.66\n",
            "  42642.57        43499.18        43941.6         46416.33\n",
            "  59869.5         56168.15        43311.2025      47103.665\n",
            "  62124.66        44816.5         45351.26        60640.8\n",
            "  48482.81        43442.38       128953.77        45305.665\n",
            "  43804.87        45568.2        192182.57        44028.77\n",
            "  46402.5         62480.62        42135.5        185774.21\n",
            "  62967.69        43126.875       62482.31        44705.66\n",
            "  45140.08        45139.66        45557.14        41488.92\n",
            "  44186.19        89737.57        45381.85        42938.23816667\n",
            "  81572.56        45623.05        43959.38166667  45282.22333333\n",
            "  43162.601       42662.94        46945.04        47754.36\n",
            " 171064.2        184522.69        45597.03166667  64179.57\n",
            "  44614.494       45934.75        87117.99        81162.37\n",
            "  44065.63        46353.7         43739.34333333  47506.07\n",
            "  45098.29        58588.54        46870.01        44897.04\n",
            "  45703.15       302969.4         45143.64        44884.05\n",
            "  43481.73        44073.42        60770.12        46656.41\n",
            "  92121.7         44532.56        87042.81        46688.6125\n",
            "  46318.88        44050.15        44457.59        43732.62\n",
            "  42906.32        44547.56        46447.95       185612.44\n",
            "  44977.29        64334.69        43839.78        46393.77\n",
            "  45719.57        43134.735       46684.59        47080.75\n",
            "  44471.82        62869.52        61507.68        56245.53\n",
            "  45734.98        44071.18        87655.81        43392.88\n",
            "  46202.85       123823.84        45138.92        45508.73\n",
            "  45778.5825     187542.06        43440.495       60253.82\n",
            "  47107.38        44482.06        46145.54        42905.27\n",
            " 134960.15        59650.5         45344.93466667  45095.84\n",
            " 166963.93        43480.71        44677.53        48036.84466667\n",
            "  45866.63        44310.79        43199.9         44291.35\n",
            "  44853.65333333  43216.61333333  43963.00166667  58941.12\n",
            "  45524.31        45251.21        45256.93        45490.52833333\n",
            "  47214.29        47850.03        44912.41        60690.73\n",
            "  45886.59        43653.466       62226.59        45682.70333333\n",
            "  45928.00964286  62824.86        46837.2         54608.09\n",
            "  59949.74        45018.67        43296.94        44983.2\n",
            "  44452.87        43861.38        44825.705       45670.17\n",
            "  46541.65        45613.244      184754.65       130500.36\n",
            "  92204.46        44078.41        47336.60083333  47345.34\n",
            "  42602.53        54278.64        44364.60666667  45447.01333333\n",
            "  43942.38        45862.26        44046.37        45875.51333333\n",
            "  42870.46        47957.97        45893.17        60347.81\n",
            "  89506.51        43881.93        46092.52        46472.05\n",
            "  46612.8         45081.675       44005.1         42712.82\n",
            "  42992.24        57707.26        47502.92        90624.3\n",
            " 128175.04        44809.04       126803.69        43643.57\n",
            "  44921.21        47261.15        44116.85        80745.6\n",
            "  46121.          45410.35        43856.485       85376.47\n",
            "  90408.38        46644.53        43973.38        45485.13\n",
            "  43377.31666667  44532.04        45255.59        44576.9595\n",
            "  42615.41        43918.11        44085.53        48066.05\n",
            "  84863.62        44795.06        56353.27        45557.75\n",
            "  44425.92        64858.08        45090.87        46302.25\n",
            "  84232.14        45031.495       44118.67        44166.37\n",
            " 117521.16        44088.34        93304.11        44978.16\n",
            "  42975.515       44057.29333333  45422.76        47774.15\n",
            "  43377.84       129026.66        43205.29        59289.49\n",
            "  59275.98        46609.419       43777.27666667  43523.89\n",
            "  86796.51        62094.82        45872.08        45986.377\n",
            "  46936.59        57528.78       126608.64        63660.35\n",
            "  44181.2         83754.43        43756.30166667  46312.04\n",
            "  45060.38333333  43616.56        42817.68        44388.78\n",
            "  62094.82        44759.44        55691.41        48604.54\n",
            "  87646.88        41914.92        45765.54        46286.77\n",
            "  45225.41666667  43751.2825      45685.76        44706.2\n",
            "  44044.37233333  87453.9        130514.32        43582.695\n",
            "  55789.78        61137.57        45625.72        45281.97\n",
            "  42775.0015      44254.015       43374.06        45152.9\n",
            "  45390.58        43346.31        46463.16        85806.14\n",
            " 272423.02        59453.08        45041.91       185337.54\n",
            "  45818.82        65929.8         43676.7235      45865.71\n",
            "  45605.5         46175.69        43929.32        44101.83083333\n",
            "  44909.06        61090.65        45677.53333333  59194.22\n",
            "  43501.29        46451.59        46809.77        44374.53\n",
            "  43413.14333333 183644.85        44399.145       56590.51\n",
            "  44605.3975      46560.89        44761.532       45241.73\n",
            "  90928.49        45394.82        43043.19        45391.52\n",
            "  44604.4         92337.27        44306.05        46799.62\n",
            "  43582.21        44604.72        45725.47        43552.03\n",
            "  59919.27        43033.13        44467.21333333  43533.35\n",
            "  43832.81        43380.94333333  45953.2         87353.15\n",
            " 135559.01        45225.4225     255318.87        45821.38\n",
            "  44330.3         46440.43        43827.3         43325.81\n",
            "  45814.         294062.41        42492.07        44821.06\n",
            "  60991.73        58111.53        47904.162       46633.55\n",
            "  53540.33       136445.97        46810.68        44719.965\n",
            "  46387.82       131030.15        44000.38        82709.37\n",
            "  45623.718       45099.92        63501.07        44758.46\n",
            "  91392.3         45343.21        42950.15083333  44073.28\n",
            "  43106.21333333  90106.94        43857.33        45631.02\n",
            "  43793.04        45633.19        91585.6         42560.1\n",
            "  46746.73        46397.18        44221.17        46361.87\n",
            "  41878.59        45429.29        45230.44        60210.53\n",
            "  46385.29        45682.00333333  43546.11        47128.33\n",
            " 125030.01        42701.3         45199.34        44327.16\n",
            "  43595.285       46031.17        46767.26        44227.92\n",
            "  49057.36        57975.82        59783.36        60219.65\n",
            "  44167.44        44814.65333333  43278.35       189521.71\n",
            " 182187.32        44935.23        42118.05        47616.57\n",
            "  45252.71        42425.71        47121.16        44747.69\n",
            "  42333.62        44166.37        56036.95        92048.78\n",
            "  43886.17        44136.66        46871.98        45818.09\n",
            "  44726.73        43563.28        45338.22        45687.14\n",
            "  89261.51        43087.14        44687.66        44359.27\n",
            "  45175.87       174196.17        44782.46        44714.08\n",
            "  45129.77        48424.4575      86157.54        56591.86\n",
            "  65183.3         45926.33        44190.28        45877.25\n",
            " 173248.4         47224.57        43354.22        45214.395     ]\n"
          ]
        }
      ]
    },
    {
      "cell_type": "code",
      "source": [
        "from sklearn.metrics import mean_absolute_error, mean_squared_error, r2_score\n",
        "print(f\"Model:RandomForestRegressor\")\n",
        "print(f\"Mean Absolute Error (MAE): {mean_absolute_error(Y_test, Y_predrf)}\")\n",
        "print(f\"Mean Squared Error (MSE): {mean_squared_error(Y_test, Y_predrf)}\")\n",
        "print(f\"Root Mean Squared Error (RMSE): {np.sqrt(mean_squared_error(Y_test,Y_predrf))}\")\n",
        "print(f\"R-squared (R2) Score: {r2_score(Y_test, Y_predrf)}\\n\")"
      ],
      "metadata": {
        "colab": {
          "base_uri": "https://localhost:8080/"
        },
        "id": "rWTvneh2Wq_d",
        "outputId": "e326ec81-825f-448e-cfd4-6f63e0b2bf1a"
      },
      "execution_count": 50,
      "outputs": [
        {
          "output_type": "stream",
          "name": "stdout",
          "text": [
            "Model:RandomForestRegressor\n",
            "Mean Absolute Error (MAE): 4591.834555826118\n",
            "Mean Squared Error (MSE): 77535893.5699992\n",
            "Root Mean Squared Error (RMSE): 8805.446812626784\n",
            "R-squared (R2) Score: 0.9434495753709645\n",
            "\n"
          ]
        }
      ]
    },
    {
      "cell_type": "code",
      "source": [
        "import numpy as np\n",
        "from sklearn.ensemble import GradientBoostingRegressor\n",
        "\n",
        "gb_model = GradientBoostingRegressor()\n",
        "\n",
        "gb_model.fit(X_train, Y_train)\n",
        "\n",
        "Y_predgb = gb_model.predict(X_test)\n",
        "print(Y_predgb)"
      ],
      "metadata": {
        "colab": {
          "base_uri": "https://localhost:8080/"
        },
        "id": "x0jOIEdKWuHF",
        "outputId": "10fbd9fa-7376-4f00-b751-e20284f6f9e8"
      },
      "execution_count": 51,
      "outputs": [
        {
          "output_type": "stream",
          "name": "stdout",
          "text": [
            "[ 45037.09806995 271090.3531705   45000.17451991  83146.30211021\n",
            "  45000.17451991  45037.09806995  45037.09806995  45078.90327874\n",
            " 128370.01321988  45081.86546127 125789.43900922  60473.32442917\n",
            "  59577.52853732  44997.79107449  44963.97156104 175724.04746461\n",
            "  45078.90327874  59540.48699381  45042.70031987  45039.59628327\n",
            "  45162.97766552  62431.08587427  45121.17245674  44498.22606111\n",
            "  44958.36931113  45042.70031987  45162.97766552  44896.69579831\n",
            "  44919.06231566  45087.46771119  45042.70031987  45037.09806995\n",
            "  45078.90327874  45078.90327874  44540.0312699   83754.94387727\n",
            "  45078.90327874  45078.90327874  45162.97766552  44891.0935484\n",
            "  59738.48716764  44997.79107449  44980.77018509  59738.48716764\n",
            "  45003.3933244   45078.90327874  44963.97156104  45133.38406153\n",
            "  45489.89277723  45078.90327874  45121.17245674 306318.48364963\n",
            "  45078.90327874  45042.70031987  44932.89875718  45042.70031987\n",
            "  85595.67155003  44960.86752445  44919.06231566  45078.90327874\n",
            "  44932.89875718  44975.16793518  45042.70031987 124448.40048545\n",
            "  45078.90327874  59501.17999835 158236.86023706  45042.70031987\n",
            "  59540.48699381  59540.48699381  59700.5321293  124433.42436688\n",
            "  45162.97766552  45489.89277723  45079.74186338  44851.92220687\n",
            "  45039.59628327  45078.90327874  60960.86390827  44963.97156104\n",
            "  45000.17451991  44891.0935484  189134.31842722  61656.94161728\n",
            "  59738.48716764  45003.3933244   45003.3933244   45078.90327874\n",
            "  45087.46771119  45335.5479758   44958.36931113  45037.09806995\n",
            "  44958.36931113  44891.0935484   45037.09806995  59890.65457999\n",
            "  45016.97314397  44896.69579831  45042.70031987  45162.97766552\n",
            "  59540.48699381  59540.48699381  45003.3933244   45162.97766552\n",
            "  59540.48699381  45000.17451991  45039.59628327  60960.86390827\n",
            "  44932.89875718  45042.70031987 125555.22370253  45003.3933244\n",
            "  45078.90327874  45039.59628327 177471.7899252   45042.70031987\n",
            "  44958.36931113  59540.48699381  44540.0312699  189585.41095207\n",
            "  60275.32425534  45162.97766552  59738.48716764  45042.70031987\n",
            "  45087.46771119  45078.90327874  45078.90327874  44891.0935484\n",
            "  45162.97766552  84105.11146345  45078.90327874  45078.90327874\n",
            "  84144.41845891  45039.59628327  45037.09806995  45037.21606342\n",
            "  45121.17245674  44975.16793518  45280.11011562  45623.33880506\n",
            " 186306.47941737 180714.89892162  44888.12516574  59540.48699381\n",
            "  45087.46771119  45123.67067006  83754.94387727  83754.94387727\n",
            "  45078.90327874  45377.35318458  45037.09806995  45078.90327874\n",
            "  45037.09806995  59540.48699381  45042.70031987  45037.09806995\n",
            "  45587.13584619 306233.88388668  45037.09806995  45039.59628327\n",
            "  45039.59628327  44963.97156104  60960.86390827  45121.17245674\n",
            "  86864.10735895  45074.13961346  85910.7054962   45162.97766552\n",
            "  45081.86546127  45003.3933244   45162.97766552  44801.30073712\n",
            "  44958.36931113  45042.70031987  45280.11011562 198068.34095006\n",
            "  45081.86546127  59622.14404754  44956.1889811   45526.0957361\n",
            "  45037.09806995  45003.3933244   45526.0957361   45078.90327874\n",
            "  44963.97156104  59890.65457999  59738.48716764  59501.17999835\n",
            "  45078.90327874  45037.09806995  84144.41845891  44956.1889811\n",
            "  45037.09806995 130819.00323616  44958.36931113  45037.09806995\n",
            "  45039.59628327 180753.34024876  45238.30490683  59622.14404754\n",
            "  45526.0957361   45037.09806995  45037.09806995  44919.06231566\n",
            " 130780.48545298  61696.24861274  45078.90327874  45003.3933244\n",
            " 150339.84922171  44958.36931113  45079.74186338  45042.70031987\n",
            "  45042.70031987  45078.90327874  45162.97766552  45078.90327874\n",
            "  45078.90327874  45000.17451991  45078.90327874  59577.52853732\n",
            "  45162.97766552  44932.89875718  45078.90327874  45000.17451991\n",
            "  45123.67067006  45623.33880506  45039.59628327  59311.77472423\n",
            "  45039.59628327  44498.22606111  60275.32425534  45037.09806995\n",
            "  45042.70031987  59738.48716764  45039.59628327  59577.52853732\n",
            "  59738.48716764  45042.70031987  45078.90327874  45037.09806995\n",
            "  45078.90327874  44980.77018509  45078.90327874  45484.29052732\n",
            "  45484.29052732  45126.77470665 177404.71099222 130821.92429687\n",
            "  93957.71432134  45078.90327874  45042.70031987  44997.79107449\n",
            "  45078.90327874  59501.17999835  45078.90327874  45000.17451991\n",
            "  44963.97156104  44980.77018509  45121.17245674  45037.09806995\n",
            "  44896.69579831  44896.69579831  45000.17451991  59738.48716764\n",
            "  83969.30668796  45078.90327874  44997.79107449  45074.13961346\n",
            "  45042.70031987  45238.30490683  45078.90327874  44932.89875718\n",
            "  45078.90327874  59540.48699381  45162.97766552  87053.58907218\n",
            " 129131.00521461  45484.29052732 115912.87330598  45037.09806995\n",
            "  44891.0935484   45126.77470665  45078.90327874  87027.86675632\n",
            "  45042.70031987  45162.97766552  45078.90327874  84195.64338382\n",
            "  90657.68053903  45003.3933244   45364.1845024   45162.97766552\n",
            "  45078.90327874  45526.0957361   45078.90327874  45037.09806995\n",
            "  45037.09806995  45037.09806995  44896.69579831  45623.33880506\n",
            "  91715.08485199  45037.09806995  60236.01725988  44891.0935484\n",
            "  45039.59628327  60236.01725988  45238.30490683  45000.17451991\n",
            "  90892.12805015  45037.09806995  45039.59628327  45489.89277723\n",
            " 122033.68853934  45078.90327874  84105.11146345  45123.67067006\n",
            "  45042.70031987  45078.90327874  45078.90327874  45078.90327874\n",
            "  45039.59628327 120525.45086992  45037.09806995  61696.24861274\n",
            "  60289.78704005  45078.90327874  45037.09806995  45042.70031987\n",
            "  90633.87169099  59540.48699381  45039.59628327  45078.90327874\n",
            "  45000.17451991  59929.96157545 115717.95677816  59738.48716764\n",
            "  44975.16793518  83836.600931    45039.59628327  45039.59628327\n",
            "  44891.0935484   45042.70031987  45016.97314397  44888.12516574\n",
            "  59540.48699381  44997.79107449  59540.48699381  45526.0957361\n",
            "  89601.85955098  45042.70031987  44958.36931113  45042.70031987\n",
            "  45000.17451991  45042.70031987  45074.13961346  45037.09806995\n",
            "  45042.70031987  82791.39434616 126355.52161729  45037.09806995\n",
            "  59408.18815582  60011.61862918  45078.90327874  45081.86546127\n",
            "  45078.90327874  45042.70031987  44891.0935484   45042.70031987\n",
            "  44932.89875718  44888.12516574  45000.17451991  83952.9440511\n",
            " 273143.72039899  59540.48699381  45079.74186338 177404.71099222\n",
            "  44932.89875718  59981.18650036  44924.66456557  45078.90327874\n",
            "  45042.70031987  45078.90327874  45042.70031987  45000.17451991\n",
            "  45042.70031987  59738.48716764  45000.17451991  59408.18815582\n",
            "  45078.90327874  45042.70031987  45078.90327874  45078.90327874\n",
            "  45042.70031987 188083.22538367  45126.77470665  59540.48699381\n",
            "  45037.09806995  45078.90327874  45078.90327874  45042.70031987\n",
            "  86276.63260348  45078.90327874  44896.69579831  45037.09806995\n",
            "  45123.67067006  85313.08307237  45078.90327874  45000.17451991\n",
            "  45121.17245674  45037.09806995  45162.97766552  45081.86546127\n",
            "  58857.59183377  45078.90327874  45078.90327874  45042.70031987\n",
            "  45039.59628327  45078.90327874  45037.09806995  88135.99181281\n",
            " 129442.15680479  45037.09806995 235347.6708831   45042.70031987\n",
            "  45042.70031987  45162.97766552  45037.09806995  45078.90327874\n",
            "  45039.59628327 266827.80044625  45162.97766552  45078.90327874\n",
            "  59540.48699381  59738.48716764  45526.0957361   45123.67067006\n",
            "  59501.17999835 128986.61254019  45078.90327874  45078.90327874\n",
            "  45037.09806995 130099.96420336  45489.89277723  90892.12805015\n",
            "  45746.17079996  45078.90327874  60275.32425534  45078.90327874\n",
            "  88432.39422242  44958.36931113  45000.17451991  45078.90327874\n",
            "  45003.3933244   89981.71154088  45078.90327874  44919.06231566\n",
            "  45000.17451991  44932.89875718  90935.10019192  45042.70031987\n",
            "  45042.70031987  45526.0957361   44919.06231566  45526.0957361\n",
            "  44963.97156104  45078.90327874  45037.09806995  59577.52853732\n",
            "  45162.97766552  44896.69579831  45087.46771119  45042.70031987\n",
            " 124448.40048545  45037.09806995  45078.90327874  44919.06231566\n",
            "  44975.16793518  46007.44026718  45039.59628327  44896.69579831\n",
            "  45078.90327874  60143.02541735  59540.48699381  59540.48699381\n",
            "  44963.97156104  45078.90327874  45078.90327874 182015.87885158\n",
            " 181449.73618315  45042.70031987  45003.3933244   45016.97314397\n",
            "  45078.90327874  44932.89875718  45162.97766552  44888.12516574\n",
            "  44872.11459431  45489.89277723  59540.48699381  85871.39850074\n",
            "  44872.11459431  45162.97766552  45126.77470665  45078.90327874\n",
            "  45037.09806995  45115.94482225  45037.09806995  45078.90327874\n",
            "  88175.29880828  45162.97766552  45037.09806995  45243.90715674\n",
            "  45078.90327874 166815.29685829  45078.90327874  45001.01310455\n",
            "  45078.90327874  45087.46771119  90087.98102322  60473.32442917\n",
            "  59929.96157545  45126.77470665  45078.90327874  45078.90327874\n",
            " 168548.5805168   45623.33880506  45039.59628327  45042.70031987]\n"
          ]
        }
      ]
    },
    {
      "cell_type": "code",
      "source": [
        "from sklearn.metrics import mean_absolute_error, mean_squared_error, r2_score\n",
        "print(f\"Model: GradientBoostingRegressor\")\n",
        "print(f\"Mean Absolute Error (MAE): {mean_absolute_error(Y_test, Y_predgb)}\")\n",
        "print(f\"Mean Squared Error (MSE): {mean_squared_error(Y_test, Y_predgb)}\")\n",
        "print(f\"Root Mean Squared Error (RMSE): {np.sqrt(mean_squared_error(Y_test,Y_predgb))}\")\n",
        "print(f\"R-squared (R2) Score: {r2_score(Y_test, Y_predgb)}\\n\")"
      ],
      "metadata": {
        "colab": {
          "base_uri": "https://localhost:8080/"
        },
        "id": "saf0-8FvXRsD",
        "outputId": "429e0258-385b-4eda-c040-246b10c6c9f8"
      },
      "execution_count": 47,
      "outputs": [
        {
          "output_type": "stream",
          "name": "stdout",
          "text": [
            "Model: GradientBoostingRegressor\n",
            "Mean Absolute Error (MAE): 4733.546171577325\n",
            "Mean Squared Error (MSE): 98971533.30934542\n",
            "Root Mean Squared Error (RMSE): 9948.443763189569\n",
            "R-squared (R2) Score: 0.9278155964014607\n",
            "\n"
          ]
        }
      ]
    },
    {
      "cell_type": "markdown",
      "source": [
        "# **Function to get user Input and Preprocess the input**"
      ],
      "metadata": {
        "id": "ETs7b0vPYSpy"
      }
    },
    {
      "cell_type": "code",
      "source": [
        "def predict_salary(designation, unit, tenure, past_exp, ratings):\n",
        "    input_data = {\n",
        "        'DESIGNATION': designation,\n",
        "        'UNIT': unit,\n",
        "        'TENURE': tenure,\n",
        "        'PAST EXP': past_exp,\n",
        "        'RATINGS': ratings\n",
        "    }\n",
        "\n",
        "    input_df = pd.DataFrame([input_data])\n",
        "\n",
        "    # Encode the categorical features\n",
        "    input_transformed = np.array(ct.transform(input_df))\n",
        "\n",
        "    # Standardize numerical features\n",
        "    input_transformed[:, -3:] = sc.transform(input_transformed[:, -3:])\n",
        "\n",
        "    # Predict the salary\n",
        "    predicted_salary = rf_model.predict(input_transformed)[0]\n",
        "    return predicted_salary"
      ],
      "metadata": {
        "id": "BTTIaAfRXUMx"
      },
      "execution_count": 48,
      "outputs": []
    },
    {
      "cell_type": "markdown",
      "source": [
        "# **Function to call the previous function to get and display the predicted salary.**"
      ],
      "metadata": {
        "id": "lnDL4ymxYoGf"
      }
    },
    {
      "cell_type": "code",
      "source": [
        "def finalprediction():\n",
        "    designation = input(\"Enter Designation: \")\n",
        "    unit = input(\"Enter Unit: \")\n",
        "    tenure = float(input(\"Enter Tenure in years: \"))\n",
        "    past_exp = float(input(\"Enter Past Experience in years: \"))\n",
        "    ratings = float(input(\"Enter Ratings: \"))\n",
        "\n",
        "    salary = predict_salary(designation, unit, tenure, past_exp, ratings)\n",
        "    print(f\"Predicted Salary: {salary}\")\n",
        "\n",
        "if __name__ == \"__main__\":\n",
        "    finalprediction()"
      ],
      "metadata": {
        "colab": {
          "base_uri": "https://localhost:8080/"
        },
        "id": "AgsepqeIYjvG",
        "outputId": "7dc85164-e5f0-48cc-9159-a4dba7b55fda"
      },
      "execution_count": 49,
      "outputs": [
        {
          "output_type": "stream",
          "name": "stdout",
          "text": [
            "Enter Designation: Analyst\n",
            "Enter Unit: IT\n",
            "Enter Tenure in years: 3.0\n",
            "Enter Past Experience in years: 1\n",
            "Enter Ratings: 3\n",
            "Predicted Salary: 45123.51\n"
          ]
        }
      ]
    },
    {
      "cell_type": "code",
      "source": [],
      "metadata": {
        "id": "PfpTHyXRYsRH"
      },
      "execution_count": 51,
      "outputs": []
    }
  ]
}